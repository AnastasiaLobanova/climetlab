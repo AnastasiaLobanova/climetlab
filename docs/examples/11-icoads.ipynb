{
 "cells": [
  {
   "cell_type": "code",
   "execution_count": 1,
   "metadata": {},
   "outputs": [],
   "source": [
    "!pip install --quiet climetlab"
   ]
  },
  {
   "cell_type": "code",
   "execution_count": 2,
   "metadata": {},
   "outputs": [],
   "source": [
    "import climetlab as cml"
   ]
  },
  {
   "cell_type": "code",
   "execution_count": 3,
   "metadata": {
    "tags": []
   },
   "outputs": [
    {
     "output_type": "stream",
     "name": "stdout",
     "text": "2020-09-01 14:38:43 ECMWF API python library 1.5.4\n2020-09-01 14:38:43 ECMWF API at https://api.ecmwf.int/v1\n2020-09-01 14:38:43 Welcome Baudouin Raoult\n2020-09-01 14:38:43 In case of problems, please check https://confluence.ecmwf.int/display/WEBAPI/Web+API+FAQ or contact servicedesk@ecmwf.int\n2020-09-01 14:38:43 Request submitted\n2020-09-01 14:38:43 Request id: 5f4e4ee3e390d6526af0cf90\n2020-09-01 14:38:43 Request is submitted\n2020-09-01 14:38:44 Request is active\n\nmars - INFO   - 20200901.133846 - Processing request 12\n\nRETRIEVE,\n    DATASET    = icoads,\n    CLASS      = E2,\n    TYPE       = OFB,\n    STREAM     = OPER,\n    EXPVER     = 1608,\n    REPRES     = BU,\n    REPORTYPE  = 16008,\n    OBSTYPE    = 1,\n    TIME       = ALL,\n    DOMAIN     = G,\n    PADDING    = 0,\n    DUPLICATES = KEEP,\n    DATE       = 16630901/16630902/16630903/16630904/16630905/16630906/16630907/16630908/16630909/16630910/16630911/16630912/16630913/16630914/16630915/16630916/16630917/16630918/16630919/16630920/16630921/16630922/16630923/16630924/16630925/16630926/16630927/16630928/16630929/16630930\n\nmars - INFO   - 20200901.133846 - Calling mars on 'marser', local port is 53313\nmars - INFO   - 20200901.133846 - Server task is 45 [marser]\nmars - INFO   - 20200901.133846 - Request cost: 0 field,  [marser]\nmars - WARN   - 20200901.133846 - Data not found [marser]\nmars - INFO   - 20200901.133846 - odb_filter: sql = 'NULL', total_to_read = 0\n\nmars - INFO   - 20200901.133846 - Processing request 13\n\nRETRIEVE,\n    DATASET    = icoads,\n    CLASS      = E2,\n    TYPE       = OFB,\n    STREAM     = OPER,\n    EXPVER     = 1608,\n    REPRES     = BU,\n    REPORTYPE  = 16008,\n    OBSTYPE    = 1,\n    TIME       = ALL,\n    DOMAIN     = G,\n    PADDING    = 0,\n    DUPLICATES = KEEP,\n    DATE       = 16631001/16631002/16631003/16631004/16631005/16631006/16631007/16631008/16631009/16631010/16631011/16631012/16631013/16631014/16631015/16631016/16631017/16631018/16631019/16631020/16631021/16631022/16631023/16631024/16631025/16631026/16631027/16631028/16631029/16631030/16631031\n\nmars - INFO   - 20200901.133846 - Calling mars on 'marser', local port is 54252\nmars - INFO   - 20200901.133846 - Server task is 406 [marser]\nmars - INFO   - 20200901.133846 - Request cost: 0 field,  [marser]\nmars - WARN   - 20200901.133846 - Data not found [marser]\nmars - INFO   - 20200901.133846 - odb_filter: sql = 'NULL', total_to_read = 0\n\nmars - INFO   - 20200901.133846 - Processing request 14\n\nRETRIEVE,\n    DATASET    = icoads,\n    CLASS      = E2,\n    TYPE       = OFB,\n    STREAM     = OPER,\n    EXPVER     = 1608,\n    REPRES     = BU,\n    REPORTYPE  = 16008,\n    OBSTYPE    = 1,\n    TIME       = ALL,\n    DOMAIN     = G,\n    PADDING    = 0,\n    DUPLICATES = KEEP,\n    DATE       = 16631101/16631102/16631103/16631104/16631105/16631106/16631107/16631108/16631109/16631110/16631111/16631112/16631113/16631114/16631115/16631116/16631117/16631118/16631119/16631120/16631121/16631122/16631123/16631124/16631125/16631126/16631127/16631128/16631129/16631130\n\nmars - INFO   - 20200901.133846 - Calling mars on 'marser', local port is 49527\nmars - INFO   - 20200901.133846 - Server task is 133 [marser]\nmars - INFO   - 20200901.133846 - Request cost: 0 field,  [marser]\nmars - WARN   - 20200901.133846 - Data not found [marser]\nmars - INFO   - 20200901.133846 - odb_filter: sql = 'NULL', total_to_read = 0\n\nmars - INFO   - 20200901.133846 - Processing request 15\n\nRETRIEVE,\n    DATASET    = icoads,\n    CLASS      = E2,\n    TYPE       = OFB,\n    STREAM     = OPER,\n    EXPVER     = 1608,\n    REPRES     = BU,\n    REPORTYPE  = 16008,\n    OBSTYPE    = 1,\n    TIME       = ALL,\n    DOMAIN     = G,\n    PADDING    = 0,\n    DUPLICATES = KEEP,\n    DATE       = 16631201/16631202/16631203/16631204/16631205/16631206/16631207/16631208/16631209/16631210/16631211/16631212/16631213/16631214/16631215/16631216/16631217/16631218/16631219/16631220/16631221/16631222/16631223/16631224/16631225/16631226/16631227/16631228/16631229/16631230/16631231\n\nmars - INFO   - 20200901.133846 - Calling mars on 'marser', local port is 45592\nmars - INFO   - 20200901.133846 - Server task is 133 [marser]\nmars - INFO   - 20200901.133846 - Request cost: 0 field,  [marser]\nmars - WARN   - 20200901.133846 - Data not found [marser]\nmars - INFO   - 20200901.133846 - odb_filter: sql = 'NULL', total_to_read = 0\nmars - INFO   - 20200901.133846 - Memory used: 45.59 Mbyte(s)\nmars - INFO   - 20200901.133846 - No errors reported\nProcess '['nice', 'mars', '/tmp/20200901-1330/e6/tmp-_marsiHZULZ.req']' finished\nCalling 'nice odb sql select * -i /data/scratch/20200901-1330/87/_mars-webmars-private-svc-blue-008-6fe5cac1a363ec1525f54343b6cc9fd8-wUrRCL.odb -o /data/scratch/20200901-1330/ae/odb_filter-webmars-private-svc-blue-009-6fe5cac1a363ec1525f54343b6cc9fd8-585pGg.txt -f default'\n000 2020-09-01 13:38:47 (I) Matching row(s): 678 out of 678\n000 2020-09-01 13:38:47 (I) Skips: 0\n000 2020-09-01 13:38:47 (I) Execute: 0.022769 second elapsed, 0.03 second cpu\nProcess '['nice', 'odb', 'sql', 'select *', '-i', '/data/scratch/20200901-1330/87/_mars-webmars-private-svc-blue-008-6fe5cac1a363ec1525f54343b6cc9fd8-wUrRCL.odb', '-o', '/data/scratch/20200901-1330/ae/odb_filter-webmars-private-svc-blue-009-6fe5cac1a363ec1525f54343b6cc9fd8-585pGg.txt', '-f', 'default']' finished\n2020-09-01 14:38:50 Request is complete\n2020-09-01 14:38:50 Transfering 13.0352 Kbytes into /var/tmp/climetlab-baudouin/marsretriever-a1a7fcd5ea53a1bdd112f3836543587c6012a82142452dd114131503a40aee77.cache.tmp\n2020-09-01 14:38:50 From https://stream.ecmwf.int/data/webmars-private-svc-blue-011/data/scratch/20200901-1330/50/zipcompress-webmars-private-svc-blue-011-6fe5cac1a363ec1525f54343b6cc9fd8-WbJzCU.zip\n2020-09-01 14:38:50 Transfer rate 105.512 Kbytes/s\n2020-09-01 14:38:50 Done.\n"
    }
   ],
   "source": [
    "r = {\"class\": \"e2\",\n",
    "    \"date\": \"1662-10-01/to/1663-12-31\",\n",
    "    \"dataset\": \"icoads\",\n",
    "    \"expver\": \"1608\",\n",
    "    \"groupid\": \"17\",\n",
    "    \"reportype\": \"16008\",\n",
    "    \"format\": \"ascii\",\n",
    "    \"stream\": \"oper\",\n",
    "    \"time\": \"all\",\n",
    "    \"type\": \"ofb\"}\n",
    "\n",
    "\n",
    "source = cml.load_source(\"mars\", **r)"
   ]
  },
  {
   "cell_type": "code",
   "execution_count": 4,
   "metadata": {},
   "outputs": [
    {
     "output_type": "error",
     "ename": "AssertionError",
     "evalue": "['odb_filter-webmars-private-svc-blue-009-6fe5cac1a363ec1525f54343b6cc9fd8-585pGg.txt']",
     "traceback": [
      "\u001b[0;31m---------------------------------------------------------------------------\u001b[0m",
      "\u001b[0;31mAssertionError\u001b[0m                            Traceback (most recent call last)",
      "\u001b[0;32m<ipython-input-4-73e6dd790d44>\u001b[0m in \u001b[0;36m<module>\u001b[0;34m\u001b[0m\n\u001b[0;32m----> 1\u001b[0;31m \u001b[0mpd\u001b[0m \u001b[0;34m=\u001b[0m \u001b[0msource\u001b[0m\u001b[0;34m.\u001b[0m\u001b[0mto_pandas\u001b[0m\u001b[0;34m(\u001b[0m\u001b[0;34m)\u001b[0m\u001b[0;34m\u001b[0m\u001b[0;34m\u001b[0m\u001b[0m\n\u001b[0m",
      "\u001b[0;32m~/git/climetlab/climetlab/sources/base.py\u001b[0m in \u001b[0;36mto_pandas\u001b[0;34m(self, *args, **kwargs)\u001b[0m\n\u001b[1;32m     43\u001b[0m \u001b[0;34m\u001b[0m\u001b[0m\n\u001b[1;32m     44\u001b[0m     \u001b[0;32mdef\u001b[0m \u001b[0mto_pandas\u001b[0m\u001b[0;34m(\u001b[0m\u001b[0mself\u001b[0m\u001b[0;34m,\u001b[0m \u001b[0;34m*\u001b[0m\u001b[0margs\u001b[0m\u001b[0;34m,\u001b[0m \u001b[0;34m**\u001b[0m\u001b[0mkwargs\u001b[0m\u001b[0;34m)\u001b[0m\u001b[0;34m:\u001b[0m\u001b[0;34m\u001b[0m\u001b[0;34m\u001b[0m\u001b[0m\n\u001b[0;32m---> 45\u001b[0;31m         \u001b[0;32mreturn\u001b[0m \u001b[0mself\u001b[0m\u001b[0;34m.\u001b[0m\u001b[0m_reader\u001b[0m\u001b[0;34m.\u001b[0m\u001b[0mto_pandas\u001b[0m\u001b[0;34m(\u001b[0m\u001b[0;34m*\u001b[0m\u001b[0margs\u001b[0m\u001b[0;34m,\u001b[0m \u001b[0;34m**\u001b[0m\u001b[0mkwargs\u001b[0m\u001b[0;34m)\u001b[0m\u001b[0;34m\u001b[0m\u001b[0;34m\u001b[0m\u001b[0m\n\u001b[0m\u001b[1;32m     46\u001b[0m \u001b[0;34m\u001b[0m\u001b[0m\n\u001b[1;32m     47\u001b[0m     \u001b[0;32mdef\u001b[0m \u001b[0mto_numpy\u001b[0m\u001b[0;34m(\u001b[0m\u001b[0mself\u001b[0m\u001b[0;34m,\u001b[0m \u001b[0;34m*\u001b[0m\u001b[0margs\u001b[0m\u001b[0;34m,\u001b[0m \u001b[0;34m**\u001b[0m\u001b[0mkwargs\u001b[0m\u001b[0;34m)\u001b[0m\u001b[0;34m:\u001b[0m\u001b[0;34m\u001b[0m\u001b[0;34m\u001b[0m\u001b[0m\n",
      "\u001b[0;32m~/git/climetlab/climetlab/sources/base.py\u001b[0m in \u001b[0;36m_reader\u001b[0;34m(self)\u001b[0m\n\u001b[1;32m     27\u001b[0m     \u001b[0;32mdef\u001b[0m \u001b[0m_reader\u001b[0m\u001b[0;34m(\u001b[0m\u001b[0mself\u001b[0m\u001b[0;34m)\u001b[0m\u001b[0;34m:\u001b[0m\u001b[0;34m\u001b[0m\u001b[0;34m\u001b[0m\u001b[0m\n\u001b[1;32m     28\u001b[0m         \u001b[0;32mif\u001b[0m \u001b[0mself\u001b[0m\u001b[0;34m.\u001b[0m\u001b[0m_reader_\u001b[0m \u001b[0;32mis\u001b[0m \u001b[0;32mNone\u001b[0m\u001b[0;34m:\u001b[0m\u001b[0;34m\u001b[0m\u001b[0;34m\u001b[0m\u001b[0m\n\u001b[0;32m---> 29\u001b[0;31m             \u001b[0mself\u001b[0m\u001b[0;34m.\u001b[0m\u001b[0m_reader_\u001b[0m \u001b[0;34m=\u001b[0m \u001b[0mreader\u001b[0m\u001b[0;34m(\u001b[0m\u001b[0mself\u001b[0m\u001b[0;34m,\u001b[0m \u001b[0mself\u001b[0m\u001b[0;34m.\u001b[0m\u001b[0mpath\u001b[0m\u001b[0;34m)\u001b[0m\u001b[0;34m\u001b[0m\u001b[0;34m\u001b[0m\u001b[0m\n\u001b[0m\u001b[1;32m     30\u001b[0m         \u001b[0;32mreturn\u001b[0m \u001b[0mself\u001b[0m\u001b[0;34m.\u001b[0m\u001b[0m_reader_\u001b[0m\u001b[0;34m\u001b[0m\u001b[0;34m\u001b[0m\u001b[0m\n\u001b[1;32m     31\u001b[0m \u001b[0;34m\u001b[0m\u001b[0m\n",
      "\u001b[0;32m~/git/climetlab/climetlab/sources/readers/__init__.py\u001b[0m in \u001b[0;36mreader\u001b[0;34m(source, path)\u001b[0m\n\u001b[1;32m     94\u001b[0m \u001b[0;34m\u001b[0m\u001b[0m\n\u001b[1;32m     95\u001b[0m         \u001b[0;32mif\u001b[0m \u001b[0mheader\u001b[0m \u001b[0;32min\u001b[0m \u001b[0mREADERS\u001b[0m\u001b[0;34m:\u001b[0m\u001b[0;34m\u001b[0m\u001b[0;34m\u001b[0m\u001b[0m\n\u001b[0;32m---> 96\u001b[0;31m             \u001b[0;32mreturn\u001b[0m \u001b[0mREADERS\u001b[0m\u001b[0;34m[\u001b[0m\u001b[0mheader\u001b[0m\u001b[0;34m]\u001b[0m\u001b[0;34m(\u001b[0m\u001b[0msource\u001b[0m\u001b[0;34m,\u001b[0m \u001b[0mpath\u001b[0m\u001b[0;34m)\u001b[0m\u001b[0;34m.\u001b[0m\u001b[0mmutate\u001b[0m\u001b[0;34m(\u001b[0m\u001b[0;34m)\u001b[0m\u001b[0;34m\u001b[0m\u001b[0;34m\u001b[0m\u001b[0m\n\u001b[0m\u001b[1;32m     97\u001b[0m \u001b[0;34m\u001b[0m\u001b[0m\n\u001b[1;32m     98\u001b[0m     raise ValueError(\n",
      "\u001b[0;32m~/git/climetlab/climetlab/sources/readers/__init__.py\u001b[0m in \u001b[0;36mzip_reader\u001b[0;34m(source, path)\u001b[0m\n\u001b[1;32m     59\u001b[0m     \u001b[0;32mfrom\u001b[0m \u001b[0;34m.\u001b[0m\u001b[0mzip\u001b[0m \u001b[0;32mimport\u001b[0m \u001b[0mZIPReader\u001b[0m\u001b[0;34m\u001b[0m\u001b[0;34m\u001b[0m\u001b[0m\n\u001b[1;32m     60\u001b[0m \u001b[0;34m\u001b[0m\u001b[0m\n\u001b[0;32m---> 61\u001b[0;31m     \u001b[0;32mreturn\u001b[0m \u001b[0mZIPReader\u001b[0m\u001b[0;34m(\u001b[0m\u001b[0msource\u001b[0m\u001b[0;34m,\u001b[0m \u001b[0mpath\u001b[0m\u001b[0;34m)\u001b[0m\u001b[0;34m\u001b[0m\u001b[0;34m\u001b[0m\u001b[0m\n\u001b[0m\u001b[1;32m     62\u001b[0m \u001b[0;34m\u001b[0m\u001b[0m\n\u001b[1;32m     63\u001b[0m \u001b[0;34m\u001b[0m\u001b[0m\n",
      "\u001b[0;32m~/git/climetlab/climetlab/sources/readers/zip.py\u001b[0m in \u001b[0;36m__init__\u001b[0;34m(self, source, path)\u001b[0m\n\u001b[1;32m     19\u001b[0m             \u001b[0mself\u001b[0m\u001b[0;34m.\u001b[0m\u001b[0m_content\u001b[0m \u001b[0;34m=\u001b[0m \u001b[0mzip\u001b[0m\u001b[0;34m.\u001b[0m\u001b[0mnamelist\u001b[0m\u001b[0;34m(\u001b[0m\u001b[0;34m)\u001b[0m\u001b[0;34m\u001b[0m\u001b[0;34m\u001b[0m\u001b[0m\n\u001b[1;32m     20\u001b[0m \u001b[0;34m\u001b[0m\u001b[0m\n\u001b[0;32m---> 21\u001b[0;31m         \u001b[0;32massert\u001b[0m \u001b[0;32mFalse\u001b[0m\u001b[0;34m,\u001b[0m \u001b[0mself\u001b[0m\u001b[0;34m.\u001b[0m\u001b[0m_content\u001b[0m\u001b[0;34m\u001b[0m\u001b[0;34m\u001b[0m\u001b[0m\n\u001b[0m\u001b[1;32m     22\u001b[0m \u001b[0;34m\u001b[0m\u001b[0m\n\u001b[1;32m     23\u001b[0m     \u001b[0;31m# def to_pandas(self, **kwargs):\u001b[0m\u001b[0;34m\u001b[0m\u001b[0;34m\u001b[0m\u001b[0;34m\u001b[0m\u001b[0m\n",
      "\u001b[0;31mAssertionError\u001b[0m: ['odb_filter-webmars-private-svc-blue-009-6fe5cac1a363ec1525f54343b6cc9fd8-585pGg.txt']"
     ]
    }
   ],
   "source": [
    "pd = source.to_pandas()"
   ]
  },
  {
   "cell_type": "code",
   "execution_count": 5,
   "metadata": {},
   "outputs": [
    {
     "output_type": "error",
     "ename": "NameError",
     "evalue": "name 'pd' is not defined",
     "traceback": [
      "\u001b[0;31m---------------------------------------------------------------------------\u001b[0m",
      "\u001b[0;31mNameError\u001b[0m                                 Traceback (most recent call last)",
      "\u001b[0;32m<ipython-input-5-2337d7da5ae8>\u001b[0m in \u001b[0;36m<module>\u001b[0;34m\u001b[0m\n\u001b[0;32m----> 1\u001b[0;31m \u001b[0mpd\u001b[0m\u001b[0;34m\u001b[0m\u001b[0;34m\u001b[0m\u001b[0m\n\u001b[0m",
      "\u001b[0;31mNameError\u001b[0m: name 'pd' is not defined"
     ]
    }
   ],
   "source": [
    "pd"
   ]
  },
  {
   "cell_type": "code",
   "execution_count": 6,
   "metadata": {},
   "outputs": [
    {
     "output_type": "error",
     "ename": "NameError",
     "evalue": "name 'pd' is not defined",
     "traceback": [
      "\u001b[0;31m---------------------------------------------------------------------------\u001b[0m",
      "\u001b[0;31mNameError\u001b[0m                                 Traceback (most recent call last)",
      "\u001b[0;32m<ipython-input-6-e7c8108c3607>\u001b[0m in \u001b[0;36m<module>\u001b[0;34m\u001b[0m\n\u001b[0;32m----> 1\u001b[0;31m \u001b[0mcml\u001b[0m\u001b[0;34m.\u001b[0m\u001b[0mplot_map\u001b[0m\u001b[0;34m(\u001b[0m\u001b[0mpd\u001b[0m\u001b[0;34m,\u001b[0m \u001b[0mprojection\u001b[0m\u001b[0;34m=\u001b[0m\u001b[0;34m'global'\u001b[0m\u001b[0;34m)\u001b[0m\u001b[0;34m\u001b[0m\u001b[0;34m\u001b[0m\u001b[0m\n\u001b[0m",
      "\u001b[0;31mNameError\u001b[0m: name 'pd' is not defined"
     ]
    }
   ],
   "source": [
    "cml.plot_map(pd, projection='global')"
   ]
  }
 ],
 "metadata": {
  "kernelspec": {
   "display_name": "Python 3",
   "language": "python",
   "name": "python3"
  },
  "language_info": {
   "codemirror_mode": {
    "name": "ipython",
    "version": 3
   },
   "file_extension": ".py",
   "mimetype": "text/x-python",
   "name": "python",
   "nbconvert_exporter": "python",
   "pygments_lexer": "ipython3",
   "version": "3.8.5-final"
  }
 },
 "nbformat": 4,
 "nbformat_minor": 4
}