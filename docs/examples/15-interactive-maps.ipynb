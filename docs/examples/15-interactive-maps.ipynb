{
 "cells": [
  {
   "cell_type": "code",
   "execution_count": 1,
   "metadata": {
    "tags": []
   },
   "outputs": [],
   "source": [
    "!pip install --quiet climetlab"
   ]
  },
  {
   "cell_type": "markdown",
   "metadata": {},
   "source": [
    "# Interactive maps"
   ]
  },
  {
   "cell_type": "code",
   "execution_count": 2,
   "metadata": {
    "tags": []
   },
   "outputs": [],
   "source": [
    "import climetlab as  cml"
   ]
  },
  {
   "cell_type": "code",
   "execution_count": 3,
   "metadata": {
    "tags": []
   },
   "outputs": [
    {
     "output_type": "execute_result",
     "data": {
      "text/plain": [
       "<IPython.core.display.HTML object>"
      ],
      "text/html": "<div style=\"width:100%;\"><div style=\"position:relative;width:100%;height:0;padding-bottom:60%;\"><span style=\"color:#565656\">Make this Notebook Trusted to load map: File -> Trust Notebook</span><iframe src=\"about:blank\" style=\"position:absolute;width:100%;height:100%;left:0;top:0;border:none !important;\" data-html=%3C%21DOCTYPE%20html%3E%0A%3Chead%3E%20%20%20%20%0A%20%20%20%20%3Cmeta%20http-equiv%3D%22content-type%22%20content%3D%22text/html%3B%20charset%3DUTF-8%22%20/%3E%0A%20%20%20%20%0A%20%20%20%20%20%20%20%20%3Cscript%3E%0A%20%20%20%20%20%20%20%20%20%20%20%20L_NO_TOUCH%20%3D%20false%3B%0A%20%20%20%20%20%20%20%20%20%20%20%20L_DISABLE_3D%20%3D%20false%3B%0A%20%20%20%20%20%20%20%20%3C/script%3E%0A%20%20%20%20%0A%20%20%20%20%3Cstyle%3Ehtml%2C%20body%20%7Bwidth%3A%20100%25%3Bheight%3A%20100%25%3Bmargin%3A%200%3Bpadding%3A%200%3B%7D%3C/style%3E%0A%20%20%20%20%3Cstyle%3E%23map%20%7Bposition%3Aabsolute%3Btop%3A0%3Bbottom%3A0%3Bright%3A0%3Bleft%3A0%3B%7D%3C/style%3E%0A%20%20%20%20%3Cscript%20src%3D%22https%3A//cdn.jsdelivr.net/npm/leaflet%401.6.0/dist/leaflet.js%22%3E%3C/script%3E%0A%20%20%20%20%3Cscript%20src%3D%22https%3A//code.jquery.com/jquery-1.12.4.min.js%22%3E%3C/script%3E%0A%20%20%20%20%3Cscript%20src%3D%22https%3A//maxcdn.bootstrapcdn.com/bootstrap/3.2.0/js/bootstrap.min.js%22%3E%3C/script%3E%0A%20%20%20%20%3Cscript%20src%3D%22https%3A//cdnjs.cloudflare.com/ajax/libs/Leaflet.awesome-markers/2.0.2/leaflet.awesome-markers.js%22%3E%3C/script%3E%0A%20%20%20%20%3Clink%20rel%3D%22stylesheet%22%20href%3D%22https%3A//cdn.jsdelivr.net/npm/leaflet%401.6.0/dist/leaflet.css%22/%3E%0A%20%20%20%20%3Clink%20rel%3D%22stylesheet%22%20href%3D%22https%3A//maxcdn.bootstrapcdn.com/bootstrap/3.2.0/css/bootstrap.min.css%22/%3E%0A%20%20%20%20%3Clink%20rel%3D%22stylesheet%22%20href%3D%22https%3A//maxcdn.bootstrapcdn.com/bootstrap/3.2.0/css/bootstrap-theme.min.css%22/%3E%0A%20%20%20%20%3Clink%20rel%3D%22stylesheet%22%20href%3D%22https%3A//maxcdn.bootstrapcdn.com/font-awesome/4.6.3/css/font-awesome.min.css%22/%3E%0A%20%20%20%20%3Clink%20rel%3D%22stylesheet%22%20href%3D%22https%3A//cdnjs.cloudflare.com/ajax/libs/Leaflet.awesome-markers/2.0.2/leaflet.awesome-markers.css%22/%3E%0A%20%20%20%20%3Clink%20rel%3D%22stylesheet%22%20href%3D%22https%3A//cdn.jsdelivr.net/gh/python-visualization/folium/folium/templates/leaflet.awesome.rotate.min.css%22/%3E%0A%20%20%20%20%0A%20%20%20%20%20%20%20%20%20%20%20%20%3Cmeta%20name%3D%22viewport%22%20content%3D%22width%3Ddevice-width%2C%0A%20%20%20%20%20%20%20%20%20%20%20%20%20%20%20%20initial-scale%3D1.0%2C%20maximum-scale%3D1.0%2C%20user-scalable%3Dno%22%20/%3E%0A%20%20%20%20%20%20%20%20%20%20%20%20%3Cstyle%3E%0A%20%20%20%20%20%20%20%20%20%20%20%20%20%20%20%20%23map_7bacb3ee07de4308b30367306ccae76c%20%7B%0A%20%20%20%20%20%20%20%20%20%20%20%20%20%20%20%20%20%20%20%20position%3A%20relative%3B%0A%20%20%20%20%20%20%20%20%20%20%20%20%20%20%20%20%20%20%20%20width%3A%20100.0%25%3B%0A%20%20%20%20%20%20%20%20%20%20%20%20%20%20%20%20%20%20%20%20height%3A%20100.0%25%3B%0A%20%20%20%20%20%20%20%20%20%20%20%20%20%20%20%20%20%20%20%20left%3A%200.0%25%3B%0A%20%20%20%20%20%20%20%20%20%20%20%20%20%20%20%20%20%20%20%20top%3A%200.0%25%3B%0A%20%20%20%20%20%20%20%20%20%20%20%20%20%20%20%20%7D%0A%20%20%20%20%20%20%20%20%20%20%20%20%3C/style%3E%0A%20%20%20%20%20%20%20%20%0A%20%20%20%20%3Cscript%20src%3D%22https%3A//cdnjs.cloudflare.com/ajax/libs/leaflet.fullscreen/1.4.2/Control.FullScreen.min.js%22%3E%3C/script%3E%0A%20%20%20%20%3Clink%20rel%3D%22stylesheet%22%20href%3D%22https%3A//cdnjs.cloudflare.com/ajax/libs/leaflet.fullscreen/1.4.2/Control.FullScreen.min.css%22/%3E%0A%20%20%20%20%0A%20%20%20%20%20%20%20%20%0A%3C/head%3E%0A%3Cbody%3E%20%20%20%20%0A%20%20%20%20%0A%20%20%20%20%20%20%20%20%20%20%20%20%3Cdiv%20class%3D%22folium-map%22%20id%3D%22map_7bacb3ee07de4308b30367306ccae76c%22%20%3E%3C/div%3E%0A%20%20%20%20%20%20%20%20%0A%20%20%20%20%0A%20%20%20%20%20%20%20%20%0A%3C/body%3E%0A%3Cscript%3E%20%20%20%20%0A%20%20%20%20%0A%20%20%20%20%20%20%20%20%20%20%20%20var%20map_7bacb3ee07de4308b30367306ccae76c%20%3D%20L.map%28%0A%20%20%20%20%20%20%20%20%20%20%20%20%20%20%20%20%22map_7bacb3ee07de4308b30367306ccae76c%22%2C%0A%20%20%20%20%20%20%20%20%20%20%20%20%20%20%20%20%7B%0A%20%20%20%20%20%20%20%20%20%20%20%20%20%20%20%20%20%20%20%20center%3A%20%5B31.6%2C%20-82.35%5D%2C%0A%20%20%20%20%20%20%20%20%20%20%20%20%20%20%20%20%20%20%20%20crs%3A%20L.CRS.EPSG3857%2C%0A%20%20%20%20%20%20%20%20%20%20%20%20%20%20%20%20%20%20%20%20zoom%3A%204.0435729847494555%2C%0A%20%20%20%20%20%20%20%20%20%20%20%20%20%20%20%20%20%20%20%20zoomControl%3A%20true%2C%0A%20%20%20%20%20%20%20%20%20%20%20%20%20%20%20%20%20%20%20%20preferCanvas%3A%20false%2C%0A%20%20%20%20%20%20%20%20%20%20%20%20%20%20%20%20%7D%0A%20%20%20%20%20%20%20%20%20%20%20%20%29%3B%0A%0A%20%20%20%20%20%20%20%20%20%20%20%20%0A%0A%20%20%20%20%20%20%20%20%0A%20%20%20%20%0A%20%20%20%20%20%20%20%20%20%20%20%20var%20tile_layer_c53fad0602ae4f159a471e213b7577e7%20%3D%20L.tileLayer%28%0A%20%20%20%20%20%20%20%20%20%20%20%20%20%20%20%20%22https%3A//%7Bs%7D.tile.openstreetmap.org/%7Bz%7D/%7Bx%7D/%7By%7D.png%22%2C%0A%20%20%20%20%20%20%20%20%20%20%20%20%20%20%20%20%7B%22attribution%22%3A%20%22Map%20data%20%5Cu0026copy%3B%20%5Cu003ca%20href%3D%5C%22https%3A//www.openstreetmap.org/copyright%5C%22%5Cu003eOpenStreetMap%5Cu003c/a%5Cu003e%20contributors%22%2C%20%22detectRetina%22%3A%20false%2C%20%22maxNativeZoom%22%3A%2018%2C%20%22maxZoom%22%3A%2018%2C%20%22minZoom%22%3A%200%2C%20%22noWrap%22%3A%20false%2C%20%22opacity%22%3A%201%2C%20%22subdomains%22%3A%20%22abc%22%2C%20%22tms%22%3A%20false%7D%0A%20%20%20%20%20%20%20%20%20%20%20%20%29.addTo%28map_7bacb3ee07de4308b30367306ccae76c%29%3B%0A%20%20%20%20%20%20%20%20%0A%20%20%20%20%0A%20%20%20%20%20%20%20%20%20%20%20%20var%20svgElement%20%3D%20document.createElementNS%28%22http%3A//www.w3.org/2000/svg%22%2C%20%22svg%22%29%3B%0A%20%20%20%20%20%20%20%20%20%20%20%20svgElement.setAttribute%28%27xmlns%27%2C%20%22http%3A//www.w3.org/2000/svg%22%29%3B%0A%20%20%20%20%20%20%20%20%20%20%20%20svgElement.setAttribute%28%27viewBox%27%2C%20%220%200%206145%206151%22%29%3B%0A%20%20%20%20%20%20%20%20%20%20%20%20svgElement.innerHTML%20%3D%20%22%5Cu003crdf%3ARDF%5Cu003e%5Cu003ccc%3AWork%20rdf%3Aabout%3D%5C%22%5C%22%5Cu003e%5Cn%5Ct%5Cu003cdc%3Aformat%5Cu003eimage/svg%2Bxml%5Cu003c/dc%3Aformat%5Cu003e%5Cn%5Ct%5Cu003cdc%3Atitle%5Cu003eMagics%20plot%5Cu003c/dc%3Atitle%5Cu003e%5Cn%5Ct%5Cu003cdc%3Aauthor%5Cu003ebaudouin%20on%20Baudouins-iMac-3.local%5Cu003c/dc%3Aauthor%5Cu003e%5Cn%5Ct%5Cu003cdc%3Adate%5Cu003eSun%20Mar%2021%2009%3A14%3A51%202021%5Cu003c/dc%3Adate%5Cu003e%5Cn%5Ct%5Cu003cdc%3Alanguage%5Cu003een-GB%5Cu003c/dc%3Alanguage%5Cu003e%5Cn%5Ct%5Cu003cdc%3Apublisher%5Cu003e%5Cu003ccc%3AAgent%5Cu003e%5Cn%5Ct%20%5Cu003cdc%3Atitle%5Cu003eMagics%204.5.1%5Cu003c/dc%3Atitle%5Cu003e%5Cn%5Ct%5Cu003c/cc%3AAgent%5Cu003e%5Cu003c/dc%3Apublisher%5Cu003e%5Cn%5Ct%5Cu003cdc%3Acoverage%5Cu003ePlot%20of%20meteorological%20data%5Cu003c/dc%3Acoverage%5Cu003e%5Cn%5Cu003c/cc%3AWork%5Cu003e%5Cu003c/rdf%3ARDF%5Cu003e%5Cn%5Cu003c/metadata%5Cu003e%5Cn%5Cu003cg%20id%3D%5C%22page%5C%22%20transform%3D%5C%22translate%280%2C6150.93%29%5C%22%20vector-effect%3D%5C%22non-scaling-stroke%5C%22%5Cu003e%5Cn%5Cu003cg%20id%3D%5C%22Page0%5C%22%20inkscape%3Alabel%3D%5C%22Page0%5C%22%5Cu003e%5Cn%5Cu003cg%20inkscape%3Agroupmode%3D%5C%22layer%5C%22%20inkscape%3Alabel%3D%5C%22Coastline%5C%22%20id%3D%5C%22Coastline%5C%22%5Cu003e%5Cu003ctitle%5Cu003eCoastline%5Cu003c/title%5Cu003e%5Cn%5Cu003cg%5Cu003e%5Cn%5Cu003cg%20id%3D%5C%22drawing%5C%22%20inkscape%3Alabel%3D%5C%22drawing%5C%22%20transform%3D%5C%22translate%283072%2C-3075.47%29%5C%22%5Cu003e%5Cn%5Cu003c/g%5Cu003e%5Cn%5Cu003c/g%5Cu003e%5Cn%5Cu003c/g%5Cu003e%5Cn%5Cu003cg%20inkscape%3Agroupmode%3D%5C%22layer%5C%22%20inkscape%3Alabel%3D%5C%22no_name%5C%22%20id%3D%5C%22no_name%5C%22%5Cu003e%5Cu003ctitle%5Cu003eno_name%5Cu003c/title%5Cu003e%5Cn%5Cu003cg%5Cu003e%5Cn%5Cu003cg%20id%3D%5C%22drawing%5C%22%20inkscape%3Alabel%3D%5C%22drawing%5C%22%20transform%3D%5C%22translate%283072%2C-3075.47%29%5C%22%5Cu003e%5Cn%5Cu003cg%20stroke-width%3D%5C%220.5px%5C%22%20stroke%3D%5C%22rgb%28254%2C0%2C0%29%5C%22%20fill%3D%5C%22none%5C%22%5Cu003e%5Cn%5Cu003c/g%5Cu003e%5Cn%5Cu003cg%20stroke%3D%5C%22rgb%28254%2C0%2C0%29%5C%22%20fill%3D%5C%22rgb%28254%2C0%2C0%29%5C%22%5Cu003e%5Cn%5Cu003ccircle%20cx%3D%5C%22-1282%5C%22%20cy%3D%5C%22-405%5C%22%20r%3D%5C%221.5%5C%22/%5Cu003e%5Cn%5Cu003ccircle%20cx%3D%5C%22-1292%5C%22%20cy%3D%5C%22-411%5C%22%20r%3D%5C%221.5%5C%22/%5Cu003e%5Cn%5Cu003ccircle%20cx%3D%5C%22-1301%5C%22%20cy%3D%5C%22-418%5C%22%20r%3D%5C%221.5%5C%22/%5Cu003e%5Cn%5Cu003ccircle%20cx%3D%5C%22-1306%5C%22%20cy%3D%5C%22-431%5C%22%20r%3D%5C%221.5%5C%22/%5Cu003e%5Cn%5Cu003ccircle%20cx%3D%5C%22-1313%5C%22%20cy%3D%5C%22-448%5C%22%20r%3D%5C%221.5%5C%22/%5Cu003e%5Cn%5Cu003ccircle%20cx%3D%5C%22-1326%5C%22%20cy%3D%5C%22-460%5C%22%20r%3D%5C%221.5%5C%22/%5Cu003e%5Cn%5Cu003ccircle%20cx%3D%5C%22-1338%5C%22%20cy%3D%5C%22-461%5C%22%20r%3D%5C%221.5%5C%22/%5Cu003e%5Cn%5Cu003ccircle%20cx%3D%5C%22-1349%5C%22%20cy%3D%5C%22-463%5C%22%20r%3D%5C%221.5%5C%22/%5Cu003e%5Cn%5Cu003ccircle%20cx%3D%5C%22-1359%5C%22%20cy%3D%5C%22-463%5C%22%20r%3D%5C%221.5%5C%22/%5Cu003e%5Cn%5Cu003ccircle%20cx%3D%5C%22-1367%5C%22%20cy%3D%5C%22-460%5C%22%20r%3D%5C%221.5%5C%22/%5Cu003e%5Cn%5Cu003ccircle%20cx%3D%5C%22-1371%5C%22%20cy%3D%5C%22-458%5C%22%20r%3D%5C%221.5%5C%22/%5Cu003e%5Cn%5Cu003ccircle%20cx%3D%5C%22-1388%5C%22%20cy%3D%5C%22-448%5C%22%20r%3D%5C%221.5%5C%22/%5Cu003e%5Cn%5Cu003ccircle%20cx%3D%5C%22-1400%5C%22%20cy%3D%5C%22-443%5C%22%20r%3D%5C%221.5%5C%22/%5Cu003e%5Cn%5Cu003ccircle%20cx%3D%5C%22-1410%5C%22%20cy%3D%5C%22-439%5C%22%20r%3D%5C%221.5%5C%22/%5Cu003e%5Cn%5Cu003ccircle%20cx%3D%5C%22-1422%5C%22%20cy%3D%5C%22-433%5C%22%20r%3D%5C%221.5%5C%22/%5Cu003e%5Cn%5Cu003ccircle%20cx%3D%5C%22-1434%5C%22%20cy%3D%5C%22-429%5C%22%20r%3D%5C%221.5%5C%22/%5Cu003e%5Cn%5Cu003ccircle%20cx%3D%5C%22-1446%5C%22%20cy%3D%5C%22-429%5C%22%20r%3D%5C%221.5%5C%22/%5Cu003e%5Cn%5Cu003ccircle%20cx%3D%5C%22-1456%5C%22%20cy%3D%5C%22-431%5C%22%20r%3D%5C%221.5%5C%22/%5Cu003e%5Cn%5Cu003ccircle%20cx%3D%5C%22-1466%5C%22%20cy%3D%5C%22-437%5C%22%20r%3D%5C%221.5%5C%22/%5Cu003e%5Cn%5Cu003ccircle%20cx%3D%5C%22-1480%5C%22%20cy%3D%5C%22-444%5C%22%20r%3D%5C%221.5%5C%22/%5Cu003e%5Cn%5Cu003ccircle%20cx%3D%5C%22-1497%5C%22%20cy%3D%5C%22-454%5C%22%20r%3D%5C%221.5%5C%22/%5Cu003e%5Cn%5Cu003ccircle%20cx%3D%5C%22-1512%5C%22%20cy%3D%5C%22-465%5C%22%20r%3D%5C%221.5%5C%22/%5Cu003e%5Cn%5Cu003ccircle%20cx%3D%5C%22-1523%5C%22%20cy%3D%5C%22-482%5C%22%20r%3D%5C%221.5%5C%22/%5Cu003e%5Cn%5Cu003ccircle%20cx%3D%5C%22-1530%5C%22%20cy%3D%5C%22-502%5C%22%20r%3D%5C%221.5%5C%22/%5Cu003e%5Cn%5Cu003ccircle%20cx%3D%5C%22-1530%5C%22%20cy%3D%5C%22-523%5C%22%20r%3D%5C%221.5%5C%22/%5Cu003e%5Cn%5Cu003ccircle%20cx%3D%5C%22-1530%5C%22%20cy%3D%5C%22-527%5C%22%20r%3D%5C%221.5%5C%22/%5Cu003e%5Cn%5Cu003ccircle%20cx%3D%5C%22-1530%5C%22%20cy%3D%5C%22-541%5C%22%20r%3D%5C%221.5%5C%22/%5Cu003e%5Cn%5Cu003ccircle%20cx%3D%5C%22-1530%5C%22%20cy%3D%5C%22-559%5C%22%20r%3D%5C%221.5%5C%22/%5Cu003e%5Cn%5Cu003ccircle%20cx%3D%5C%22-1521%5C%22%20cy%3D%5C%22-589%5C%22%20r%3D%5C%221.5%5C%22/%5Cu003e%5Cn%5Cu003ccircle%20cx%3D%5C%22-1512%5C%22%20cy%3D%5C%22-620%5C%22%20r%3D%5C%221.5%5C%22/%5Cu003e%5Cn%5Cu003ccircle%20cx%3D%5C%22-1502%5C%22%20cy%3D%5C%22-651%5C%22%20r%3D%5C%221.5%5C%22/%5Cu003e%5Cn%5Cu003ccircle%20cx%3D%5C%22-1485%5C%22%20cy%3D%5C%22-680%5C%22%20r%3D%5C%221.5%5C%22/%5Cu003e%5Cn%5Cu003ccircle%20cx%3D%5C%22-1456%5C%22%20cy%3D%5C%22-715%5C%22%20r%3D%5C%221.5%5C%22/%5Cu003e%5Cn%5Cu003ccircle%20cx%3D%5C%22-1415%5C%22%20cy%3D%5C%22-748%5C%22%20r%3D%5C%221.5%5C%22/%5Cu003e%5Cn%5Cu003c/g%5Cu003e%5Cn%5Cu003cg%20stroke-width%3D%5C%220.5px%5C%22%20stroke%3D%5C%22rgb%28254%2C0%2C0%29%5C%22%20fill%3D%5C%22none%5C%22%5Cu003e%5Cn%5Cu003cpath%20d%3D%5C%22M-1282.42%20-405.601l-10.2457%20-5.57565l-8.53808%20-7.4539l-5.12285%20-13.1l-6.83046%20-16.9507l-13.6609%20-11.3706l-11.9533%20-1.90071l-10.2457%20-1.90233l-10.2457%200l-8.53808%203.80304l-3.41523%201.89909l-17.0762%209.47148l-11.9533%205.66402l-10.2457%203.76829l-11.9533%205.64102l-11.9533%203.75316l-11.9533%200l-10.2457%20-1.87584l-10.2457%20-5.63649l-13.6609%20-7.5366l-17.0762%20-9.45569l-15.3685%20-11.3995l-10.2457%20-17.2107l-6.83046%20-19.2869l0%20-56.9919l8.53808%20-30.156l8.53808%20-30.6653l10.2457%20-31.2138l17.0762%20-29.665l29.0295%20-34.5803l40.9828%20-33.126%5C%22/%5Cu003e%5Cn%5Cu003c/g%5Cu003e%5Cn%5Cu003c/g%5Cu003e%5Cn%5Cu003c/g%5Cu003e%5Cn%5Cu003c/g%5Cu003e%5Cn%5Cu003cg%20inkscape%3Agroupmode%3D%5C%22layer%5C%22%20inkscape%3Alabel%3D%5C%22Coastline%5C%22%20id%3D%5C%22Coastline%5C%22%5Cu003e%5Cu003ctitle%5Cu003eCoastline%5Cu003c/title%5Cu003e%5Cn%5Cu003cg%5Cu003e%5Cn%5Cu003cg%20id%3D%5C%22drawing%5C%22%20inkscape%3Alabel%3D%5C%22drawing%5C%22%20transform%3D%5C%22translate%283072%2C-3075.47%29%5C%22%5Cu003e%5Cn%5Cu003c/g%5Cu003e%5Cn%5Cu003c/g%5Cu003e%5Cn%5Cu003c/g%5Cu003e%5Cn%5Cu003cg%20id%3D%5C%22Clone%20of%20page%5C%22%20inkscape%3Alabel%3D%5C%22Clone%20of%20page%5C%22%5Cu003e%5Cn%5Cu003c/g%5Cu003e%5Cn%5Cu003c/g%5Cu003e%5Cn%5Cu003c/g%5Cu003e%5Cu003c%21--ePage--%5Cu003e%5Cn%22%0A%20%20%20%20%20%20%20%20%20%20%20%20var%20macro_element_0fcc5fc40c5445f0a456e4229da6454c%20%3D%20L.svgOverlay%28%0A%20%20%20%20%20%20%20%20%20%20%20%20%20%20%20%20svgElement%2C%0A%20%20%20%20%20%20%20%20%20%20%20%20%20%20%20%20%5B%5B90%2C%20-180%5D%2C%20%5B-90%2C%20180%5D%5D%2C%0A%20%20%20%20%20%20%20%20%20%20%20%20%20%20%20%20%7B%22attribution%22%3A%20%22CliMetLab%22%7D%0A%20%20%20%20%20%20%20%20%20%20%20%20%29.addTo%28map_7bacb3ee07de4308b30367306ccae76c%29%3B%0A%20%20%20%20%20%20%20%20%0A%20%20%20%20%0A%20%20%20%20%20%20%20%20%20%20%20%20L.control.fullscreen%28%0A%20%20%20%20%20%20%20%20%20%20%20%20%20%20%20%20%7B%22forceSeparateButton%22%3A%20true%2C%20%22position%22%3A%20%22topleft%22%2C%20%22title%22%3A%20%22Full%20Screen%22%2C%20%22titleCancel%22%3A%20%22Exit%20Full%20Screen%22%7D%0A%20%20%20%20%20%20%20%20%20%20%20%20%29.addTo%28map_7bacb3ee07de4308b30367306ccae76c%29%3B%0A%20%20%20%20%20%20%20%20%0A%20%20%20%20%0A%20%20%20%20%20%20%20%20map_7bacb3ee07de4308b30367306ccae76c.scrollWheelZoom.disable%28%29%3B%0A%20%20%20%20%20%20%20%20%0A%20%20%20%20%0A%20%20%20%20%20%20%20%20%20%20%20%20map_7bacb3ee07de4308b30367306ccae76c.fitBounds%28%0A%20%20%20%20%20%20%20%20%20%20%20%20%20%20%20%20%5B%5B23.1%2C%20-75.1%5D%2C%20%5B40.1%2C%20-89.6%5D%5D%2C%0A%20%20%20%20%20%20%20%20%20%20%20%20%20%20%20%20%7B%7D%0A%20%20%20%20%20%20%20%20%20%20%20%20%29%3B%0A%20%20%20%20%20%20%20%20%0A%3C/script%3E onload=\"this.contentDocument.open();this.contentDocument.write(    decodeURIComponent(this.getAttribute('data-html')));this.contentDocument.close();\" allowfullscreen webkitallowfullscreen mozallowfullscreen></iframe></div></div>"
     },
     "metadata": {},
     "execution_count": 3
    }
   ],
   "source": [
    "atlantic = cml.load_dataset(\"hurricane-database\", \"atlantic\")\n",
    "df = atlantic.to_pandas()\n",
    "katrina = df[(df.name=='katrina') & (df.year==2005)]\n",
    "cml.interactive_map(katrina)"
   ]
  },
  {
   "cell_type": "code",
   "execution_count": null,
   "metadata": {},
   "outputs": [],
   "source": []
  }
 ],
 "metadata": {
  "kernelspec": {
   "display_name": "Python 3",
   "language": "python",
   "name": "python3"
  },
  "language_info": {
   "codemirror_mode": {
    "name": "ipython",
    "version": 3
   },
   "file_extension": ".py",
   "mimetype": "text/x-python",
   "name": "python",
   "nbconvert_exporter": "python",
   "pygments_lexer": "ipython3",
   "version": "3.9.2-final"
  }
 },
 "nbformat": 4,
 "nbformat_minor": 4
}