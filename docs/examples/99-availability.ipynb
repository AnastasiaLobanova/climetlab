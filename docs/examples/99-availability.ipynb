{
 "cells": [
  {
   "cell_type": "code",
   "execution_count": 1,
   "metadata": {
    "tags": []
   },
   "outputs": [],
   "source": [
    "!pip install --quiet climetlab"
   ]
  },
  {
   "source": [
    "from climetlab.utils.availability import Availability, availability"
   ],
   "cell_type": "code",
   "metadata": {},
   "execution_count": 2,
   "outputs": []
  },
  {
   "cell_type": "code",
   "execution_count": 3,
   "metadata": {
    "tags": []
   },
   "outputs": [],
   "source": [
    "C0 = [\n",
    "    {\"level\": \"500\", \"param\": \"Z\", \"step\": \"24\"},\n",
    "    {\"level\": \"500\", \"param\": \"Z\", \"step\": \"36\"},\n",
    "    {\"level\": \"500\", \"param\": \"Z\", \"step\": \"48\"},\n",
    "    {\"level\": \"500\", \"param\": \"T\", \"step\": \"24\"},\n",
    "    {\"level\": \"500\", \"param\": \"T\", \"step\": \"36\"},\n",
    "    {\"level\": \"500\", \"param\": \"T\", \"step\": \"48\"},\n",
    "    {\"level\": \"850\", \"param\": \"T\", \"step\": \"36\"},\n",
    "    {\"level\": \"850\", \"param\": \"T\", \"step\": \"48\"},\n",
    "    {\"level\": \"1000\", \"param\": \"Z\", \"step\": \"24\"},\n",
    "    {\"level\": \"1000\", \"param\": \"Z\", \"step\": \"48\"},\n",
    "]"
   ]
  },
  {
   "cell_type": "code",
   "execution_count": 4,
   "metadata": {},
   "outputs": [],
   "source": [
    "a0 = Availability(C0)"
   ]
  },
  {
   "cell_type": "code",
   "execution_count": 5,
   "metadata": {},
   "outputs": [
    {
     "output_type": "execute_result",
     "data": {
      "text/plain": [
       "<climetlab.utils.availability.Availability at 0x123b42c70>"
      ],
      "text/html": "{}<ul>{'level': ('1000',), 'param': ('Z',), 'step': ('24', '48')}<ul></ul>{'level': ('500',), 'param': ('T', 'Z'), 'step': ('24', '36', '48')}<ul></ul>{'level': ('850',), 'param': ('T',), 'step': ('36', '48')}<ul></ul></ul>"
     },
     "metadata": {},
     "execution_count": 5
    }
   ],
   "source": [
    "a0"
   ]
  },
  {
   "cell_type": "code",
   "execution_count": 6,
   "metadata": {},
   "outputs": [],
   "source": [
    "C1 = [\n",
    "    {\"level\": \"500\", \"param\": \"Z\", \"step\": \"24\"},\n",
    "    {\"level\": \"500\", \"param\": \"Z\", \"step\": \"36\"},\n",
    "    {\"level\": \"500\", \"param\": \"Z\", \"step\": \"48\"},\n",
    "    {\"level\": \"500\", \"param\": \"T\", \"step\": \"24\"},\n",
    "    {\"level\": \"500\", \"param\": \"T\", \"step\": \"36\"},\n",
    "    {\"level\": \"500\", \"param\": \"T\", \"step\": \"48\"},\n",
    "    {\"level\": \"850\", \"param\": \"T\", \"step\": \"36\"},\n",
    "    {\"level\": \"850\", \"param\": \"T\", \"step\": \"48\"},\n",
    "    {\"level\": \"1000\", \"param\": \"Z\", \"step\": \"24\"},\n",
    "    {\"level\": \"1000\", \"param\": \"Z\", \"step\": \"48\"},\n",
    "    {\"level\": \"850\", \"param\": \"Z\", \"step\": \"36\"},\n",
    "    {\"level\": \"850\", \"param\": \"Z\", \"step\": \"48\"},\n",
    "]"
   ]
  },
  {
   "cell_type": "code",
   "execution_count": 7,
   "metadata": {},
   "outputs": [],
   "source": [
    "a1 = Availability(C1)"
   ]
  },
  {
   "cell_type": "code",
   "execution_count": 8,
   "metadata": {},
   "outputs": [
    {
     "output_type": "execute_result",
     "data": {
      "text/plain": [
       "<climetlab.utils.availability.Availability at 0x123b5cdf0>"
      ],
      "text/html": "{}<ul>{'param': ('T', 'Z')}<ul>{'level': ('500',), 'step': ('24', '36', '48')}<ul></ul>{'level': ('850',), 'step': ('36', '48')}<ul></ul></ul>{'level': ('1000',), 'param': ('Z',), 'step': ('24', '48')}<ul></ul></ul>"
     },
     "metadata": {},
     "execution_count": 8
    }
   ],
   "source": [
    "a1"
   ]
  },
  {
   "cell_type": "code",
   "execution_count": 9,
   "metadata": {},
   "outputs": [
    {
     "output_type": "execute_result",
     "data": {
      "text/plain": [
       "<climetlab.utils.factorise.Tree at 0x123b5c250>"
      ],
      "text/html": "{}<ul>{'param': ('Z',)}<ul>{'level': ('500',), 'step': ('24', '36', '48')}<ul></ul>{'level': ('850',), 'step': ('36', '48')}<ul></ul></ul>{'level': ('1000',), 'param': ('Z',), 'step': ('24', '48')}<ul></ul></ul>"
     },
     "metadata": {},
     "execution_count": 9
    }
   ],
   "source": [
    "a1.select(param= \"Z\")"
   ]
  },
  {
   "cell_type": "code",
   "execution_count": 10,
   "metadata": {},
   "outputs": [
    {
     "output_type": "execute_result",
     "data": {
      "text/plain": [
       "<climetlab.utils.factorise.Tree at 0x123b5c580>"
      ],
      "text/html": "{}<ul>{'param': ('T',)}<ul>{'level': ('500',), 'step': ('24', '36', '48')}<ul></ul>{'level': ('850',), 'step': ('36', '48')}<ul></ul></ul></ul>"
     },
     "metadata": {},
     "execution_count": 10
    }
   ],
   "source": [
    "a1.select(param= \"T\")"
   ]
  },
  {
   "cell_type": "code",
   "execution_count": 11,
   "metadata": {},
   "outputs": [
    {
     "output_type": "execute_result",
     "data": {
      "text/plain": [
       "<climetlab.utils.factorise.Tree at 0x123b5c9d0>"
      ],
      "text/html": "{}<ul>{'param': ('T', 'Z')}<ul>{'level': ('500',), 'step': ('36',)}<ul></ul>{'level': ('850',), 'step': ('36',)}<ul></ul></ul></ul>"
     },
     "metadata": {},
     "execution_count": 11
    }
   ],
   "source": [
    "a1.select(step= \"36\")"
   ]
  },
  {
   "cell_type": "code",
   "execution_count": 12,
   "metadata": {},
   "outputs": [
    {
     "output_type": "execute_result",
     "data": {
      "text/plain": [
       "<climetlab.utils.factorise.Tree at 0x123b5c070>"
      ],
      "text/html": "{}<ul>{'param': ('T',)}<ul>{'level': ('500',), 'step': ('36',)}<ul></ul>{'level': ('850',), 'step': ('36',)}<ul></ul></ul></ul>"
     },
     "metadata": {},
     "execution_count": 12
    }
   ],
   "source": [
    "a1.select(step= \"36\",param= \"T\")"
   ]
  },
  {
   "cell_type": "code",
   "execution_count": null,
   "metadata": {},
   "outputs": [],
   "source": []
  }
 ],
 "metadata": {
  "kernelspec": {
   "display_name": "Python 3",
   "language": "python",
   "name": "python3"
  },
  "language_info": {
   "codemirror_mode": {
    "name": "ipython",
    "version": 3
   },
   "file_extension": ".py",
   "mimetype": "text/x-python",
   "name": "python",
   "nbconvert_exporter": "python",
   "pygments_lexer": "ipython3",
   "version": "3.9.2-final"
  }
 },
 "nbformat": 4,
 "nbformat_minor": 4
}