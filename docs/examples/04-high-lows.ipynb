{
 "cells": [
  {
   "cell_type": "code",
   "execution_count": 1,
   "metadata": {},
   "outputs": [],
   "source": [
    "!pip install --quiet climetlab tensorflow"
   ]
  },
  {
   "cell_type": "markdown",
   "metadata": {},
   "source": [
    "# Machine learning example"
   ]
  },
  {
   "cell_type": "code",
   "execution_count": 2,
   "metadata": {},
   "outputs": [],
   "source": [
    "from tensorflow.keras.layers import Input, Dense, Flatten\n",
    "from tensorflow.keras.models import Sequential"
   ]
  },
  {
   "cell_type": "code",
   "execution_count": 3,
   "metadata": {},
   "outputs": [],
   "source": [
    "import climetlab as cml"
   ]
  },
  {
   "cell_type": "markdown",
   "metadata": {},
   "source": [
    "### Load the high-low data set and plot all the fields and their label"
   ]
  },
  {
   "cell_type": "code",
   "execution_count": null,
   "metadata": {},
   "outputs": [
    {
     "name": "stderr",
     "output_type": "stream",
     "text": [
      "2020-09-01 10:56:49,473 INFO Welcome to the CDS\n",
      "2020-09-01 10:56:49,474 INFO Sending request to https://cds.climate.copernicus.eu/api/v2/resources/reanalysis-era5-pressure-levels\n",
      "2020-09-01 10:56:49,755 INFO Request is queued\n",
      "2020-09-01 10:56:50,777 INFO Request is running\n",
      "2020-09-01 10:56:54,591 INFO Request is completed\n",
      "2020-09-01 10:56:54,592 INFO Downloading http://136.156.133.41/cache-compute-0013/cache/data9/adaptor.mars.internal-1598954210.453964-28749-1-abc849ee-9f68-4c31-bcb7-0c8de24457e8.grib to /var/tmp/climetlab-baudouin/cdsretriever-72eaf1a3cb094e2ae95e7b1d04afacd62e5436267aa595f8ecb876accb0fde7d.cache.tmp (1.1K)\n",
      "2020-09-01 10:56:54,672 INFO Download rate 13.3K/s\n",
      "2020-09-01 10:56:54,918 INFO Using eccodes C bindings to decode GRIB data\n",
      "2020-09-01 10:56:55,022 INFO Welcome to the CDS\n",
      "2020-09-01 10:56:55,023 INFO Sending request to https://cds.climate.copernicus.eu/api/v2/resources/reanalysis-era5-pressure-levels\n",
      "2020-09-01 10:56:55,380 INFO Request is queued\n",
      "2020-09-01 10:56:56,411 INFO Request is running\n",
      "2020-09-01 10:56:57,937 INFO Request is completed\n",
      "2020-09-01 10:56:57,938 INFO Downloading http://136.156.132.235/cache-compute-0006/cache/data1/adaptor.mars.internal-1598954216.3576097-26236-29-857af399-f630-486a-a2f7-2c23e0d2c6ee.grib to /var/tmp/climetlab-baudouin/cdsretriever-ac6e5e11edb332f4d9254804aef6c0d999d9f1c9375191b9bac31e52e9c9cba1.cache.tmp (1.1K)\n",
      "2020-09-01 10:56:57,981 INFO Download rate 24.8K/s\n",
      "2020-09-01 10:56:58,481 INFO Welcome to the CDS\n",
      "2020-09-01 10:56:58,482 INFO Sending request to https://cds.climate.copernicus.eu/api/v2/resources/reanalysis-era5-pressure-levels\n",
      "2020-09-01 10:56:59,347 INFO Request is queued\n",
      "2020-09-01 10:57:00,379 INFO Request is running\n",
      "2020-09-01 10:57:04,204 INFO Request is completed\n",
      "2020-09-01 10:57:04,205 INFO Downloading http://136.156.133.41/cache-compute-0013/cache/data6/adaptor.mars.internal-1598954219.471725-23830-34-a316b56e-e1f8-4f98-8da3-10db772774c6.grib to /var/tmp/climetlab-baudouin/cdsretriever-25af47f856426f5bc0537d5ae5ae4c0a48f9b725e71078fc00e39337f23e9ac1.cache.tmp (1.1K)\n",
      "2020-09-01 10:57:04,260 INFO Download rate 19.3K/s\n",
      "2020-09-01 10:57:04,413 INFO Welcome to the CDS\n",
      "2020-09-01 10:57:04,413 INFO Sending request to https://cds.climate.copernicus.eu/api/v2/resources/reanalysis-era5-pressure-levels\n",
      "2020-09-01 10:57:04,812 INFO Request is queued\n",
      "2020-09-01 10:57:05,856 INFO Request is running\n",
      "2020-09-01 10:57:07,425 INFO Request is completed\n",
      "2020-09-01 10:57:07,425 INFO Downloading http://136.156.132.153/cache-compute-0002/cache/data2/adaptor.mars.internal-1598954225.1980422-13033-3-9c0d4e82-cc7c-4ba3-8acc-b8cd50cc79b7.grib to /var/tmp/climetlab-baudouin/cdsretriever-da3b92119e4fb73ccf37643b756e9f059a2c326b61e04468ff4cb2d62ef14552.cache.tmp (1.1K)\n",
      "2020-09-01 10:57:07,514 INFO Download rate 11.9K/s\n",
      "2020-09-01 10:57:07,802 INFO Welcome to the CDS\n",
      "2020-09-01 10:57:07,803 INFO Sending request to https://cds.climate.copernicus.eu/api/v2/resources/reanalysis-era5-pressure-levels\n",
      "2020-09-01 10:57:08,140 INFO Request is completed\n",
      "2020-09-01 10:57:08,141 INFO Downloading http://136.156.133.36/cache-compute-0010/cache/data1/adaptor.mars.internal-1598547605.0835836-2496-18-7c1dc09a-bd26-4cd6-b0f3-197923247485.grib to /var/tmp/climetlab-baudouin/cdsretriever-18baa95dbedd69c718267a9c8cf2e5479fa7c3dc89fae19cdaa0df8c9752e5b5.cache.tmp (1.1K)\n",
      "2020-09-01 10:57:08,276 INFO Download rate 7.9K/s\n",
      "2020-09-01 10:57:08,546 INFO Welcome to the CDS\n",
      "2020-09-01 10:57:08,546 INFO Sending request to https://cds.climate.copernicus.eu/api/v2/resources/reanalysis-era5-pressure-levels\n",
      "2020-09-01 10:57:08,875 INFO Request is queued\n",
      "2020-09-01 10:57:11,472 INFO Request is running\n",
      "2020-09-01 10:57:13,756 INFO Request is completed\n",
      "2020-09-01 10:57:13,757 INFO Downloading http://136.156.132.236/cache-compute-0007/cache/data3/adaptor.mars.internal-1598954230.0581837-32404-20-949ab3e9-a98c-4999-8ea7-c56b7927c827.grib to /var/tmp/climetlab-baudouin/cdsretriever-d65a76efae70b8d5cb07634be9d92982ff46e460cbcb546b5f70ccfa641382c9.cache.tmp (1.1K)\n",
      "2020-09-01 10:57:13,850 INFO Download rate 11.3K/s\n",
      "2020-09-01 10:57:14,207 INFO Welcome to the CDS\n",
      "2020-09-01 10:57:14,207 INFO Sending request to https://cds.climate.copernicus.eu/api/v2/resources/reanalysis-era5-pressure-levels\n",
      "2020-09-01 10:57:14,550 INFO Request is queued\n",
      "2020-09-01 10:57:15,581 INFO Request is running\n",
      "2020-09-01 10:57:19,454 INFO Request is completed\n",
      "2020-09-01 10:57:19,455 INFO Downloading http://136.156.133.42/cache-compute-0014/cache/data5/adaptor.mars.internal-1598954235.177352-23720-9-93c9b98b-990d-4813-a3cd-904ffb0a817f.grib to /var/tmp/climetlab-baudouin/cdsretriever-08fc8cf2439671852458b9ec75e2e7a71fb6fabeb7f48b6efecfa7ad2f6b39ac.cache.tmp (1.1K)\n",
      "2020-09-01 10:57:19,548 INFO Download rate 11.5K/s\n",
      "2020-09-01 10:57:19,924 INFO Welcome to the CDS\n",
      "2020-09-01 10:57:19,925 INFO Sending request to https://cds.climate.copernicus.eu/api/v2/resources/reanalysis-era5-pressure-levels\n",
      "2020-09-01 10:57:20,390 INFO Request is queued\n",
      "2020-09-01 10:57:28,742 INFO Request is running\n",
      "2020-09-01 10:57:33,849 INFO Request is completed\n",
      "2020-09-01 10:57:33,850 INFO Downloading http://136.156.133.37/cache-compute-0011/cache/data7/adaptor.mars.internal-1598954246.9677343-21091-29-9e60ba43-43d3-461c-b43c-87c0fac35e85.grib to /var/tmp/climetlab-baudouin/cdsretriever-d3f5e70cd01cb973a0d5bb23df4f61409a45b81ce94115421dc5e64170bdb16d.cache.tmp (1.1K)\n",
      "2020-09-01 10:57:33,929 INFO Download rate 13.6K/s\n",
      "2020-09-01 10:57:34,183 INFO Welcome to the CDS\n",
      "2020-09-01 10:57:34,184 INFO Sending request to https://cds.climate.copernicus.eu/api/v2/resources/reanalysis-era5-pressure-levels\n",
      "2020-09-01 10:57:34,581 INFO Request is queued\n",
      "2020-09-01 10:57:35,633 INFO Request is running\n",
      "2020-09-01 10:57:39,455 INFO Request is completed\n",
      "2020-09-01 10:57:39,456 INFO Downloading http://136.156.133.36/cache-compute-0010/cache/data4/adaptor.mars.internal-1598954255.5553174-13229-32-7362bb3c-eeef-4435-a092-34ac38d5c429.grib to /var/tmp/climetlab-baudouin/cdsretriever-7c4563d20d67ff0306f3a2e8abb8d5bc9f0a3135f40974fc30f002440ed14af4.cache.tmp (1.1K)\n",
      "2020-09-01 10:57:39,514 INFO Download rate 18.2K/s\n",
      "2020-09-01 10:57:40,031 INFO Welcome to the CDS\n",
      "2020-09-01 10:57:40,032 INFO Sending request to https://cds.climate.copernicus.eu/api/v2/resources/reanalysis-era5-pressure-levels\n",
      "2020-09-01 10:57:40,312 INFO Request is queued\n",
      "2020-09-01 10:57:48,602 INFO Request is running\n",
      "2020-09-01 10:57:53,739 INFO Request is completed\n",
      "2020-09-01 10:57:53,740 INFO Downloading http://136.156.132.153/cache-compute-0002/cache/data5/adaptor.mars.internal-1598954265.6091099-10916-23-23457b18-fc59-4f43-b142-20badf008108.grib to /var/tmp/climetlab-baudouin/cdsretriever-af5accf10abbf111027af439f21123a727b74755c49791141763078c59ca2fee.cache.tmp (1.1K)\n",
      "2020-09-01 10:57:53,839 INFO Download rate 10.9K/s\n",
      "2020-09-01 10:57:54,619 INFO Welcome to the CDS\n",
      "2020-09-01 10:57:54,619 INFO Sending request to https://cds.climate.copernicus.eu/api/v2/resources/reanalysis-era5-pressure-levels\n",
      "2020-09-01 10:57:54,988 INFO Request is queued\n",
      "2020-09-01 10:57:57,557 INFO Request is running\n",
      "2020-09-01 10:58:03,277 INFO Request is completed\n",
      "2020-09-01 10:58:03,278 INFO Downloading http://136.156.132.110/cache-compute-0001/cache/data0/adaptor.mars.internal-1598954277.5934436-3202-9-ffd27406-9f3d-4f0b-a4f9-258dbc02d13e.grib to /var/tmp/climetlab-baudouin/cdsretriever-c3af8eb950c0f23ae542c62041f84767cfd84a649b16233726a5b5184a237494.cache.tmp (1.1K)\n",
      "2020-09-01 10:58:03,372 INFO Download rate 11.2K/s\n",
      "2020-09-01 10:58:03,679 INFO Welcome to the CDS\n",
      "2020-09-01 10:58:03,679 INFO Sending request to https://cds.climate.copernicus.eu/api/v2/resources/reanalysis-era5-pressure-levels\n",
      "2020-09-01 10:58:04,085 INFO Request is queued\n",
      "2020-09-01 10:58:06,706 INFO Request is running\n",
      "2020-09-01 10:58:12,426 INFO Request is completed\n",
      "2020-09-01 10:58:12,427 INFO Downloading http://136.156.133.25/cache-compute-0008/cache/data0/adaptor.mars.internal-1598954286.2326431-14065-32-1f5890d2-6411-4331-8d0e-f9d8917ffe96.grib to /var/tmp/climetlab-baudouin/cdsretriever-c65fadd2016565ba2d712f95ff3e5de4b464fc8dc5f66348180f96905634c3a8.cache.tmp (1.1K)\n",
      "2020-09-01 10:58:12,505 INFO Download rate 13.7K/s\n",
      "2020-09-01 10:58:12,864 INFO Welcome to the CDS\n",
      "2020-09-01 10:58:12,865 INFO Sending request to https://cds.climate.copernicus.eu/api/v2/resources/reanalysis-era5-pressure-levels\n",
      "2020-09-01 10:58:13,994 INFO Request is queued\n",
      "2020-09-01 10:58:16,946 INFO Request is running\n",
      "2020-09-01 10:58:19,241 INFO Request is completed\n",
      "2020-09-01 10:58:19,242 INFO Downloading http://136.156.133.46/cache-compute-0015/cache/data5/adaptor.mars.internal-1598954295.9860024-22489-7-4281310e-1163-45ab-a3f1-769d4aa616ca.grib to /var/tmp/climetlab-baudouin/cdsretriever-ecb578f03bbaa68595cdad7fd82632dd634b3b8c7a6b484c085f5ed6c7dd9159.cache.tmp (1.1K)\n",
      "2020-09-01 10:58:19,292 INFO Download rate 21.4K/s\n",
      "2020-09-01 10:58:20,948 INFO Welcome to the CDS\n",
      "2020-09-01 10:58:20,949 INFO Sending request to https://cds.climate.copernicus.eu/api/v2/resources/reanalysis-era5-pressure-levels\n",
      "2020-09-01 10:58:21,710 INFO Request is queued\n",
      "2020-09-01 10:58:26,906 INFO Request is running\n",
      "2020-09-01 10:58:30,312 INFO Request is completed\n",
      "2020-09-01 10:58:30,313 INFO Downloading http://136.156.133.46/cache-compute-0015/cache/data4/adaptor.mars.internal-1598954305.7854714-20993-23-6bca00aa-0128-44c8-b348-7bc53e94dc16.grib to /var/tmp/climetlab-baudouin/cdsretriever-3b1ef8f58821967ffe4a2b23da6a1637ce8ed22d64a85bd78daaa3b6cfe4c010.cache.tmp (1.1K)\n",
      "2020-09-01 10:58:30,617 INFO Download rate 3.5K/s\n",
      "2020-09-01 10:58:31,332 INFO Welcome to the CDS\n",
      "2020-09-01 10:58:31,332 INFO Sending request to https://cds.climate.copernicus.eu/api/v2/resources/reanalysis-era5-pressure-levels\n",
      "2020-09-01 10:58:32,171 INFO Request is queued\n",
      "2020-09-01 10:58:33,209 INFO Request is running\n",
      "2020-09-01 10:58:37,047 INFO Request is completed\n",
      "2020-09-01 10:58:37,047 INFO Downloading http://136.156.132.236/cache-compute-0007/cache/data2/adaptor.mars.internal-1598954312.6286438-6887-7-63c42194-7891-4746-a9fd-a90803223094.grib to /var/tmp/climetlab-baudouin/cdsretriever-034bc107e4597f9a7d8306e0be33f065b7c13b1b9c0e20b748f67e40d98f1281.cache.tmp (1.1K)\n",
      "2020-09-01 10:58:37,136 INFO Download rate 12K/s\n",
      "2020-09-01 10:58:42,279 INFO Welcome to the CDS\n",
      "2020-09-01 10:58:42,280 INFO Sending request to https://cds.climate.copernicus.eu/api/v2/resources/reanalysis-era5-pressure-levels\n",
      "2020-09-01 10:58:43,455 INFO Request is queued\n",
      "2020-09-01 10:58:46,003 INFO Request is running\n",
      "2020-09-01 10:58:48,277 INFO Request is completed\n",
      "2020-09-01 10:58:48,278 INFO Downloading http://136.156.132.198/cache-compute-0003/cache/data1/adaptor.mars.internal-1598954324.7075014-26044-22-802106f9-2a69-4dd8-858e-ed0bb409428d.grib to /var/tmp/climetlab-baudouin/cdsretriever-e2a1afbc73c1e09cfe459a336d7047a2ac34f10a42224a8606065a993efdc7fc.cache.tmp (1.1K)\n",
      "2020-09-01 10:58:48,322 INFO Download rate 24.3K/s\n",
      "2020-09-01 10:58:49,027 INFO Welcome to the CDS\n",
      "2020-09-01 10:58:49,028 INFO Sending request to https://cds.climate.copernicus.eu/api/v2/resources/reanalysis-era5-pressure-levels\n",
      "2020-09-01 10:58:49,190 INFO Request is queued\n",
      "2020-09-01 10:58:51,959 INFO Request is running\n",
      "2020-09-01 10:58:57,696 INFO Request is completed\n",
      "2020-09-01 10:58:57,697 INFO Downloading http://136.156.133.46/cache-compute-0015/cache/data5/adaptor.mars.internal-1598954331.0513382-22112-34-bd262be3-6bd8-4503-a956-6a80fa7a49a5.grib to /var/tmp/climetlab-baudouin/cdsretriever-bcc05dd72eaaaa554c49462058837134d19a26077d41dd4026d8b7ac4ae07b2f.cache.tmp (1.1K)\n",
      "2020-09-01 10:58:57,830 INFO Download rate 8K/s\n",
      "2020-09-01 10:58:58,145 INFO Welcome to the CDS\n",
      "2020-09-01 10:58:58,146 INFO Sending request to https://cds.climate.copernicus.eu/api/v2/resources/reanalysis-era5-pressure-levels\n",
      "2020-09-01 10:58:58,825 INFO Request is queued\n",
      "2020-09-01 10:59:01,371 INFO Request is running\n",
      "2020-09-01 10:59:07,065 INFO Request is completed\n",
      "2020-09-01 10:59:07,066 INFO Downloading http://136.156.132.210/cache-compute-0005/cache/data4/adaptor.mars.internal-1598954340.1281977-10206-22-01eec14f-4d6f-482f-b42e-e89ae32f5462.grib to /var/tmp/climetlab-baudouin/cdsretriever-0ad7fc8236523a7a3cb6452b104bfd9ae596f66b4ba9bbfff77e9d1284ae042f.cache.tmp (1.1K)\n",
      "2020-09-01 10:59:08,314 INFO Download rate 865.3/s\n",
      "2020-09-01 10:59:10,048 INFO Welcome to the CDS\n",
      "2020-09-01 10:59:10,049 INFO Sending request to https://cds.climate.copernicus.eu/api/v2/resources/reanalysis-era5-pressure-levels\n",
      "2020-09-01 10:59:10,432 INFO Request is queued\n",
      "2020-09-01 10:59:15,270 INFO Request is running\n",
      "2020-09-01 10:59:18,680 INFO Request is completed\n",
      "2020-09-01 10:59:18,680 INFO Downloading http://136.156.132.198/cache-compute-0003/cache/data2/adaptor.mars.internal-1598954353.0474186-24756-31-6cea7a8d-58f3-43c0-a9de-72b463173043.grib to /var/tmp/climetlab-baudouin/cdsretriever-cfb6eabe439a7b4a18c6996e2722eebcfffe31aa31ecd4f2c64e225f02754ec7.cache.tmp (1.1K)\n",
      "2020-09-01 10:59:18,753 INFO Download rate 14.7K/s\n",
      "2020-09-01 10:59:19,657 INFO Welcome to the CDS\n",
      "2020-09-01 10:59:19,658 INFO Sending request to https://cds.climate.copernicus.eu/api/v2/resources/reanalysis-era5-pressure-levels\n",
      "2020-09-01 10:59:20,492 INFO Request is queued\n",
      "2020-09-01 10:59:21,553 INFO Request is running\n",
      "2020-09-01 10:59:25,377 INFO Request is completed\n",
      "2020-09-01 10:59:25,378 INFO Downloading http://136.156.132.236/cache-compute-0007/cache/data6/adaptor.mars.internal-1598954361.2358873-6887-11-8866d316-4bbd-4543-b394-f03649d441e3.grib to /var/tmp/climetlab-baudouin/cdsretriever-ea477d7fda1de767a08e1e3421f6cd43d4908dd2d60065e66f3d883e7f09ebe4.cache.tmp (1.1K)\n",
      "2020-09-01 10:59:25,424 INFO Download rate 23.2K/s\n",
      "2020-09-01 10:59:25,802 INFO Welcome to the CDS\n",
      "2020-09-01 10:59:25,803 INFO Sending request to https://cds.climate.copernicus.eu/api/v2/resources/reanalysis-era5-pressure-levels\n",
      "2020-09-01 10:59:26,954 INFO Request is queued\n",
      "2020-09-01 10:59:35,198 INFO Request is completed\n",
      "2020-09-01 10:59:35,198 INFO Downloading http://136.156.132.198/cache-compute-0003/cache/data7/adaptor.mars.internal-1598954373.1324766-26559-18-5d9e60f8-94ce-4a63-81e9-167d7b810596.grib to /var/tmp/climetlab-baudouin/cdsretriever-0aac3766ceb441ef75b33ede4ffb81a97e634eb751c7afb4bb81e55a5998be5e.cache.tmp (1.1K)\n",
      "2020-09-01 10:59:35,257 INFO Download rate 18.3K/s\n",
      "2020-09-01 10:59:35,887 INFO Welcome to the CDS\n",
      "2020-09-01 10:59:35,888 INFO Sending request to https://cds.climate.copernicus.eu/api/v2/resources/reanalysis-era5-pressure-levels\n",
      "2020-09-01 10:59:36,775 INFO Request is queued\n",
      "2020-09-01 10:59:45,112 INFO Request is running\n",
      "2020-09-01 10:59:50,210 INFO Request is completed\n",
      "2020-09-01 10:59:50,211 INFO Downloading http://136.156.132.110/cache-compute-0001/cache/data0/adaptor.mars.internal-1598954383.0905209-3838-8-c8a44838-8fcf-4eff-8204-672c5393b735.grib to /var/tmp/climetlab-baudouin/cdsretriever-2ff2cbb7fab68dfa6a415cea6d937849d8796976a94679a0ff57cc2086641c53.cache.tmp (1.1K)\n",
      "2020-09-01 10:59:50,282 INFO Download rate 14.9K/s\n",
      "2020-09-01 10:59:51,182 INFO Welcome to the CDS\n",
      "2020-09-01 10:59:51,183 INFO Sending request to https://cds.climate.copernicus.eu/api/v2/resources/reanalysis-era5-pressure-levels\n",
      "2020-09-01 10:59:51,761 INFO Request is queued\n",
      "2020-09-01 10:59:56,846 INFO Request is running\n",
      "2020-09-01 11:00:00,273 INFO Request is completed\n",
      "2020-09-01 11:00:00,273 INFO Downloading http://136.156.132.236/cache-compute-0007/cache/data5/adaptor.mars.internal-1598954395.5190375-7310-5-96dbe14d-6659-47f4-9331-c5b1e0673f5c.grib to /var/tmp/climetlab-baudouin/cdsretriever-ee7df9adf9b99967d1aeb968faff40d0ba1850ba7300661b52f2a59a6d5c0802.cache.tmp (1.1K)\n",
      "2020-09-01 11:00:00,365 INFO Download rate 11.6K/s\n",
      "2020-09-01 11:00:00,829 INFO Welcome to the CDS\n",
      "2020-09-01 11:00:00,830 INFO Sending request to https://cds.climate.copernicus.eu/api/v2/resources/reanalysis-era5-pressure-levels\n",
      "2020-09-01 11:00:01,852 INFO Request is queued\n",
      "2020-09-01 11:00:06,740 INFO Request is running\n",
      "2020-09-01 11:00:10,177 INFO Request is completed\n",
      "2020-09-01 11:00:10,177 INFO Downloading http://136.156.133.41/cache-compute-0013/cache/data4/adaptor.mars.internal-1598954405.4200752-28810-16-4e21b12c-96f6-43dd-a371-0a9805b8511c.grib to /var/tmp/climetlab-baudouin/cdsretriever-85f49432c0ba862ba07f0a6d015ab811bc1b92b6e8db7e093293b9ae3e7fce2a.cache.tmp (1.1K)\n",
      "2020-09-01 11:00:10,227 INFO Download rate 21.5K/s\n",
      "2020-09-01 11:00:10,885 INFO Welcome to the CDS\n",
      "2020-09-01 11:00:10,885 INFO Sending request to https://cds.climate.copernicus.eu/api/v2/resources/reanalysis-era5-pressure-levels\n",
      "2020-09-01 11:00:11,588 INFO Request is queued\n",
      "2020-09-01 11:00:14,200 INFO Request is running\n",
      "2020-09-01 11:00:16,501 INFO Request is completed\n",
      "2020-09-01 11:00:16,502 INFO Downloading http://136.156.132.198/cache-compute-0003/cache/data5/adaptor.mars.internal-1598954413.393337-27746-3-cd8437de-6d53-4bde-862f-329e7fa8aa4a.grib to /var/tmp/climetlab-baudouin/cdsretriever-f866267b01435282ba6a8f1aa72f25dd184dd33373302b55394e3756776003ec.cache.tmp (1.1K)\n",
      "2020-09-01 11:00:16,575 INFO Download rate 14.7K/s\n",
      "2020-09-01 11:00:17,031 INFO Welcome to the CDS\n",
      "2020-09-01 11:00:17,032 INFO Sending request to https://cds.climate.copernicus.eu/api/v2/resources/reanalysis-era5-pressure-levels\n",
      "2020-09-01 11:00:17,434 INFO Request is queued\n",
      "2020-09-01 11:00:18,485 INFO Request is running\n",
      "2020-09-01 11:00:22,365 INFO Request is completed\n",
      "2020-09-01 11:00:22,366 INFO Downloading http://136.156.133.36/cache-compute-0010/cache/data3/adaptor.mars.internal-1598954418.5164087-17561-32-c4fb229a-1516-48c1-8ac2-6ffffbb5d23c.grib to /var/tmp/climetlab-baudouin/cdsretriever-26a0246c3897ad8427808227f910ab3fe769605125876d18b57e92434371e1a3.cache.tmp (1.1K)\n",
      "2020-09-01 11:00:22,418 INFO Download rate 20.3K/s\n",
      "2020-09-01 11:00:22,781 INFO Welcome to the CDS\n",
      "2020-09-01 11:00:22,781 INFO Sending request to https://cds.climate.copernicus.eu/api/v2/resources/reanalysis-era5-pressure-levels\n",
      "2020-09-01 11:00:23,901 INFO Request is queued\n",
      "2020-09-01 11:00:37,237 INFO Request is completed\n",
      "2020-09-01 11:00:37,237 INFO Downloading http://136.156.132.153/cache-compute-0002/cache/data8/adaptor.mars.internal-1598954433.961397-13791-10-b22ceefe-18f8-4b4c-809b-4ffb8fb91bfc.grib to /var/tmp/climetlab-baudouin/cdsretriever-34edca9e38d6a50885d2bf3e5a8fd4891310297078c035bb35a1524ac334c6aa.cache.tmp (1.1K)\n",
      "2020-09-01 11:00:37,277 INFO Download rate 26.8K/s\n",
      "2020-09-01 11:00:37,648 INFO Welcome to the CDS\n",
      "2020-09-01 11:00:37,649 INFO Sending request to https://cds.climate.copernicus.eu/api/v2/resources/reanalysis-era5-pressure-levels\n",
      "2020-09-01 11:00:38,337 INFO Request is completed\n",
      "2020-09-01 11:00:38,338 INFO Downloading http://136.156.132.201/cache-compute-0004/cache/data6/adaptor.mars.internal-1598547830.7769718-5999-34-372b7758-712c-4920-afd3-f1332ea33bfc.grib to /var/tmp/climetlab-baudouin/cdsretriever-c420826b98e6bd65ff26140bda369539f035a98a49a81946d3832c31d3a66b53.cache.tmp (1.1K)\n",
      "2020-09-01 11:00:38,415 INFO Download rate 13.7K/s\n",
      "2020-09-01 11:00:38,935 INFO Welcome to the CDS\n",
      "2020-09-01 11:00:38,935 INFO Sending request to https://cds.climate.copernicus.eu/api/v2/resources/reanalysis-era5-pressure-levels\n",
      "2020-09-01 11:00:39,223 INFO Request is queued\n",
      "2020-09-01 11:00:44,058 INFO Request is running\n",
      "2020-09-01 11:00:47,459 INFO Request is completed\n",
      "2020-09-01 11:00:47,460 INFO Downloading http://136.156.133.36/cache-compute-0010/cache/data8/adaptor.mars.internal-1598954442.8953915-19931-10-52d73714-cc0e-4787-a0a0-fd4f55346ad1.grib to /var/tmp/climetlab-baudouin/cdsretriever-1501d49305e0dad4160ec7aaf375065535543b7c72d13b40780af9c75f598596.cache.tmp (1.1K)\n",
      "2020-09-01 11:00:47,542 INFO Download rate 13.2K/s\n",
      "2020-09-01 11:00:48,732 INFO Welcome to the CDS\n",
      "2020-09-01 11:00:48,733 INFO Sending request to https://cds.climate.copernicus.eu/api/v2/resources/reanalysis-era5-pressure-levels\n",
      "2020-09-01 11:00:49,060 INFO Request is queued\n",
      "2020-09-01 11:00:57,415 INFO Request is running\n",
      "2020-09-01 11:01:02,567 INFO Request is completed\n",
      "2020-09-01 11:01:02,568 INFO Downloading http://136.156.133.39/cache-compute-0012/cache/data1/adaptor.mars.internal-1598954457.3847551-10777-10-6ce1dfb1-5330-4ba7-9597-c5f3e299148a.grib to /var/tmp/climetlab-baudouin/cdsretriever-04d8b7e5fa9d078e746f0e51db8ffecdba2f1768ac00b0add76a70748d07a4b2.cache.tmp (1.1K)\n",
      "2020-09-01 11:01:02,630 INFO Download rate 17.2K/s\n",
      "2020-09-01 11:01:03,236 INFO Welcome to the CDS\n",
      "2020-09-01 11:01:03,237 INFO Sending request to https://cds.climate.copernicus.eu/api/v2/resources/reanalysis-era5-pressure-levels\n",
      "2020-09-01 11:01:03,645 INFO Request is queued\n",
      "2020-09-01 11:01:06,208 INFO Request is running\n",
      "2020-09-01 11:01:08,500 INFO Request is completed\n",
      "2020-09-01 11:01:08,501 INFO Downloading http://136.156.132.201/cache-compute-0004/cache/data1/adaptor.mars.internal-1598954465.3540227-12772-36-35680713-f56e-49cd-b1b8-93fc4ce62022.grib to /var/tmp/climetlab-baudouin/cdsretriever-9e915841819189ec9dc3e95f1c15a8256c028518520a37b321ba4f644015a842.cache.tmp (1.1K)\n",
      "2020-09-01 11:01:08,569 INFO Download rate 15.6K/s\n",
      "2020-09-01 11:01:09,484 INFO Welcome to the CDS\n",
      "2020-09-01 11:01:09,485 INFO Sending request to https://cds.climate.copernicus.eu/api/v2/resources/reanalysis-era5-pressure-levels\n",
      "2020-09-01 11:01:10,283 INFO Request is queued\n",
      "2020-09-01 11:01:15,101 INFO Request is running\n",
      "2020-09-01 11:01:18,505 INFO Request is completed\n",
      "2020-09-01 11:01:18,506 INFO Downloading http://136.156.132.153/cache-compute-0002/cache/data1/adaptor.mars.internal-1598954473.0999238-10667-30-5276a60a-248d-4a77-a707-697407883fab.grib to /var/tmp/climetlab-baudouin/cdsretriever-9f7219e604020e5d882d0444ef27366e6ab25e6b501a0fbb7caed00491d718fa.cache.tmp (1.1K)\n",
      "2020-09-01 11:01:18,566 INFO Download rate 17.9K/s\n",
      "2020-09-01 11:01:19,357 INFO Welcome to the CDS\n",
      "2020-09-01 11:01:19,358 INFO Sending request to https://cds.climate.copernicus.eu/api/v2/resources/reanalysis-era5-pressure-levels\n",
      "2020-09-01 11:01:49,459 WARNING Recovering from HTTP error [504 Gateway Time-out], attemps 0 of 500\n",
      "2020-09-01 11:01:49,459 WARNING Retrying in 120 seconds\n"
     ]
    }
   ],
   "source": [
    "highlow = cml.load_dataset(\"high-low\")\n",
    "for field, label in highlow.fields():\n",
    "    cml.plot_map(field, width=256, title=highlow.title(label))"
   ]
  },
  {
   "cell_type": "markdown",
   "metadata": {},
   "source": [
    "### Get the train and test sets"
   ]
  },
  {
   "cell_type": "code",
   "execution_count": null,
   "metadata": {},
   "outputs": [],
   "source": [
    "(x_train, y_train, f_train), (x_test, y_test, f_test)  = highlow.load_data(test_size=0.3, fields=True)"
   ]
  },
  {
   "cell_type": "markdown",
   "metadata": {},
   "source": [
    "### Build the model"
   ]
  },
  {
   "cell_type": "code",
   "execution_count": null,
   "metadata": {},
   "outputs": [],
   "source": [
    "model = Sequential()\n",
    "model.add(Input(shape=x_train[0].shape))\n",
    "model.add(Flatten())\n",
    "model.add(Dense(64, activation='sigmoid'))\n",
    "model.add(Dense(4, activation='softmax'))"
   ]
  },
  {
   "cell_type": "code",
   "execution_count": null,
   "metadata": {
    "tags": []
   },
   "outputs": [],
   "source": [
    "model.compile(optimizer='adam', loss='categorical_crossentropy' ,metrics=['accuracy'])\n",
    "print(model.summary())"
   ]
  },
  {
   "cell_type": "markdown",
   "metadata": {},
   "source": [
    "### Train the model"
   ]
  },
  {
   "cell_type": "code",
   "execution_count": null,
   "metadata": {},
   "outputs": [],
   "source": [
    "h = model.fit(x_train ,y_train, epochs=100 , verbose=0)"
   ]
  },
  {
   "cell_type": "markdown",
   "metadata": {},
   "source": [
    "Evaluate the model on the test set"
   ]
  },
  {
   "cell_type": "code",
   "execution_count": null,
   "metadata": {
    "tags": []
   },
   "outputs": [],
   "source": [
    "model.evaluate(x_test, y_test)"
   ]
  },
  {
   "cell_type": "markdown",
   "metadata": {},
   "source": [
    "### Plot the predictions"
   ]
  },
  {
   "cell_type": "code",
   "execution_count": null,
   "metadata": {},
   "outputs": [],
   "source": [
    "predicted = model.predict(x_test)\n",
    "\n",
    "for p, f in zip(predicted, f_test):\n",
    "    cml.plot_map(f, width=256, title=highlow.title(p))"
   ]
  }
 ],
 "metadata": {
  "kernelspec": {
   "display_name": "Python 3",
   "language": "python",
   "name": "python3"
  },
  "language_info": {
   "codemirror_mode": {
    "name": "ipython",
    "version": 3
   },
   "file_extension": ".py",
   "mimetype": "text/x-python",
   "name": "python",
   "nbconvert_exporter": "python",
   "pygments_lexer": "ipython3",
   "version": "3.8.5"
  }
 },
 "nbformat": 4,
 "nbformat_minor": 4
}
