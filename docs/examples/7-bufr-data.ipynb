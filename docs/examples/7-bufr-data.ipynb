{
 "cells": [
  {
   "cell_type": "code",
   "execution_count": 1,
   "metadata": {},
   "outputs": [],
   "source": [
    "!pip install --quiet climetlab"
   ]
  },
  {
   "cell_type": "markdown",
   "metadata": {},
   "source": [
    "# BUFR data"
   ]
  },
  {
   "cell_type": "code",
   "execution_count": 2,
   "metadata": {},
   "outputs": [],
   "source": [
    "import climetlab as cml"
   ]
  },
  {
   "cell_type": "code",
   "execution_count": 3,
   "metadata": {},
   "outputs": [],
   "source": [
    "source = cml.load_dataset(\"sample-bufr-data\")"
   ]
  },
  {
   "cell_type": "markdown",
   "metadata": {},
   "source": [
    "See https://github.com/ecmwf/pdbufr"
   ]
  },
  {
   "cell_type": "code",
   "execution_count": 4,
   "metadata": {},
   "outputs": [],
   "source": [
    "pd = source.to_pandas(\n",
    "    columns=('stationNumber', 'latitude', 'longitude', 'data_datetime', 'pressure', 'airTemperature'),\n",
    "    filters={'stationNumber': [823, 9]},\n",
    ")"
   ]
  },
  {
   "cell_type": "code",
   "execution_count": 5,
   "metadata": {},
   "outputs": [
    {
     "data": {
      "text/html": [
       "<div>\n",
       "<style scoped>\n",
       "    .dataframe tbody tr th:only-of-type {\n",
       "        vertical-align: middle;\n",
       "    }\n",
       "\n",
       "    .dataframe tbody tr th {\n",
       "        vertical-align: top;\n",
       "    }\n",
       "\n",
       "    .dataframe thead th {\n",
       "        text-align: right;\n",
       "    }\n",
       "</style>\n",
       "<table border=\"1\" class=\"dataframe\">\n",
       "  <thead>\n",
       "    <tr style=\"text-align: right;\">\n",
       "      <th></th>\n",
       "      <th>stationNumber</th>\n",
       "      <th>latitude</th>\n",
       "      <th>longitude</th>\n",
       "      <th>pressure</th>\n",
       "      <th>airTemperature</th>\n",
       "      <th>data_datetime</th>\n",
       "    </tr>\n",
       "  </thead>\n",
       "  <tbody>\n",
       "    <tr>\n",
       "      <th>0</th>\n",
       "      <td>823</td>\n",
       "      <td>53.75</td>\n",
       "      <td>-73.67</td>\n",
       "      <td>100000.0</td>\n",
       "      <td>-1.000000e+100</td>\n",
       "      <td>2008-12-08 12:00:00</td>\n",
       "    </tr>\n",
       "    <tr>\n",
       "      <th>1</th>\n",
       "      <td>823</td>\n",
       "      <td>53.75</td>\n",
       "      <td>-73.67</td>\n",
       "      <td>97400.0</td>\n",
       "      <td>2.567000e+02</td>\n",
       "      <td>2008-12-08 12:00:00</td>\n",
       "    </tr>\n",
       "    <tr>\n",
       "      <th>2</th>\n",
       "      <td>823</td>\n",
       "      <td>53.75</td>\n",
       "      <td>-73.67</td>\n",
       "      <td>93700.0</td>\n",
       "      <td>2.551000e+02</td>\n",
       "      <td>2008-12-08 12:00:00</td>\n",
       "    </tr>\n",
       "    <tr>\n",
       "      <th>3</th>\n",
       "      <td>823</td>\n",
       "      <td>53.75</td>\n",
       "      <td>-73.67</td>\n",
       "      <td>92500.0</td>\n",
       "      <td>2.553000e+02</td>\n",
       "      <td>2008-12-08 12:00:00</td>\n",
       "    </tr>\n",
       "    <tr>\n",
       "      <th>4</th>\n",
       "      <td>823</td>\n",
       "      <td>53.75</td>\n",
       "      <td>-73.67</td>\n",
       "      <td>90600.0</td>\n",
       "      <td>2.567000e+02</td>\n",
       "      <td>2008-12-08 12:00:00</td>\n",
       "    </tr>\n",
       "  </tbody>\n",
       "</table>\n",
       "</div>"
      ],
      "text/plain": [
       "   stationNumber  latitude  longitude  pressure  airTemperature  \\\n",
       "0            823     53.75     -73.67  100000.0  -1.000000e+100   \n",
       "1            823     53.75     -73.67   97400.0    2.567000e+02   \n",
       "2            823     53.75     -73.67   93700.0    2.551000e+02   \n",
       "3            823     53.75     -73.67   92500.0    2.553000e+02   \n",
       "4            823     53.75     -73.67   90600.0    2.567000e+02   \n",
       "\n",
       "        data_datetime  \n",
       "0 2008-12-08 12:00:00  \n",
       "1 2008-12-08 12:00:00  \n",
       "2 2008-12-08 12:00:00  \n",
       "3 2008-12-08 12:00:00  \n",
       "4 2008-12-08 12:00:00  "
      ]
     },
     "execution_count": 5,
     "metadata": {},
     "output_type": "execute_result"
    }
   ],
   "source": [
    "pd.head()"
   ]
  },
  {
   "cell_type": "code",
   "execution_count": 6,
   "metadata": {},
   "outputs": [
    {
     "data": {
      "text/html": [
       "<div>\n",
       "<style scoped>\n",
       "    .dataframe tbody tr th:only-of-type {\n",
       "        vertical-align: middle;\n",
       "    }\n",
       "\n",
       "    .dataframe tbody tr th {\n",
       "        vertical-align: top;\n",
       "    }\n",
       "\n",
       "    .dataframe thead th {\n",
       "        text-align: right;\n",
       "    }\n",
       "</style>\n",
       "<table border=\"1\" class=\"dataframe\">\n",
       "  <thead>\n",
       "    <tr style=\"text-align: right;\">\n",
       "      <th></th>\n",
       "      <th>stationNumber</th>\n",
       "      <th>latitude</th>\n",
       "      <th>longitude</th>\n",
       "      <th>pressure</th>\n",
       "      <th>airTemperature</th>\n",
       "      <th>data_datetime</th>\n",
       "    </tr>\n",
       "  </thead>\n",
       "  <tbody>\n",
       "    <tr>\n",
       "      <th>190</th>\n",
       "      <td>9</td>\n",
       "      <td>51.77</td>\n",
       "      <td>36.17</td>\n",
       "      <td>2990.0</td>\n",
       "      <td>-1.000000e+100</td>\n",
       "      <td>2008-12-08 12:00:00</td>\n",
       "    </tr>\n",
       "    <tr>\n",
       "      <th>191</th>\n",
       "      <td>9</td>\n",
       "      <td>51.77</td>\n",
       "      <td>36.17</td>\n",
       "      <td>2790.0</td>\n",
       "      <td>2.063000e+02</td>\n",
       "      <td>2008-12-08 12:00:00</td>\n",
       "    </tr>\n",
       "    <tr>\n",
       "      <th>192</th>\n",
       "      <td>9</td>\n",
       "      <td>51.77</td>\n",
       "      <td>36.17</td>\n",
       "      <td>2170.0</td>\n",
       "      <td>-1.000000e+100</td>\n",
       "      <td>2008-12-08 12:00:00</td>\n",
       "    </tr>\n",
       "    <tr>\n",
       "      <th>193</th>\n",
       "      <td>9</td>\n",
       "      <td>51.77</td>\n",
       "      <td>36.17</td>\n",
       "      <td>2000.0</td>\n",
       "      <td>2.031000e+02</td>\n",
       "      <td>2008-12-08 12:00:00</td>\n",
       "    </tr>\n",
       "    <tr>\n",
       "      <th>194</th>\n",
       "      <td>9</td>\n",
       "      <td>51.77</td>\n",
       "      <td>36.17</td>\n",
       "      <td>1390.0</td>\n",
       "      <td>1.979000e+02</td>\n",
       "      <td>2008-12-08 12:00:00</td>\n",
       "    </tr>\n",
       "  </tbody>\n",
       "</table>\n",
       "</div>"
      ],
      "text/plain": [
       "     stationNumber  latitude  longitude  pressure  airTemperature  \\\n",
       "190              9     51.77      36.17    2990.0  -1.000000e+100   \n",
       "191              9     51.77      36.17    2790.0    2.063000e+02   \n",
       "192              9     51.77      36.17    2170.0  -1.000000e+100   \n",
       "193              9     51.77      36.17    2000.0    2.031000e+02   \n",
       "194              9     51.77      36.17    1390.0    1.979000e+02   \n",
       "\n",
       "          data_datetime  \n",
       "190 2008-12-08 12:00:00  \n",
       "191 2008-12-08 12:00:00  \n",
       "192 2008-12-08 12:00:00  \n",
       "193 2008-12-08 12:00:00  \n",
       "194 2008-12-08 12:00:00  "
      ]
     },
     "execution_count": 6,
     "metadata": {},
     "output_type": "execute_result"
    }
   ],
   "source": [
    "pd.tail()"
   ]
  }
 ],
 "metadata": {
  "kernelspec": {
   "display_name": "Python 3",
   "language": "python",
   "name": "python3"
  },
  "language_info": {
   "codemirror_mode": {
    "name": "ipython",
    "version": 3
   },
   "file_extension": ".py",
   "mimetype": "text/x-python",
   "name": "python",
   "nbconvert_exporter": "python",
   "pygments_lexer": "ipython3",
   "version": "3.8.5"
  }
 },
 "nbformat": 4,
 "nbformat_minor": 4
}
